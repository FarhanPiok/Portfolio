{
 "cells": [
  {
   "cell_type": "code",
   "execution_count": 1,
   "id": "ff8a45be-5afd-4389-9c44-d156555e8c46",
   "metadata": {},
   "outputs": [
    {
     "data": {
      "text/html": [
       "<div>\n",
       "<style scoped>\n",
       "    .dataframe tbody tr th:only-of-type {\n",
       "        vertical-align: middle;\n",
       "    }\n",
       "\n",
       "    .dataframe tbody tr th {\n",
       "        vertical-align: top;\n",
       "    }\n",
       "\n",
       "    .dataframe thead th {\n",
       "        text-align: right;\n",
       "    }\n",
       "</style>\n",
       "<table border=\"1\" class=\"dataframe\">\n",
       "  <thead>\n",
       "    <tr style=\"text-align: right;\">\n",
       "      <th></th>\n",
       "      <th>Unnamed: 0</th>\n",
       "      <th>Price</th>\n",
       "      <th>Rating</th>\n",
       "      <th>OS</th>\n",
       "      <th>Warranty</th>\n",
       "      <th>Ram_GB</th>\n",
       "      <th>SSD_GB</th>\n",
       "      <th>Display_size_inch</th>\n",
       "      <th>Brand</th>\n",
       "      <th>GPU_Memory_GB</th>\n",
       "      <th>Core_Count</th>\n",
       "      <th>Core_Threads</th>\n",
       "      <th>Processor</th>\n",
       "    </tr>\n",
       "  </thead>\n",
       "  <tbody>\n",
       "    <tr>\n",
       "      <th>0</th>\n",
       "      <td>0</td>\n",
       "      <td>50399</td>\n",
       "      <td>70.0</td>\n",
       "      <td>Windows 11</td>\n",
       "      <td>1.0</td>\n",
       "      <td>8</td>\n",
       "      <td>512</td>\n",
       "      <td>15.6</td>\n",
       "      <td>HP</td>\n",
       "      <td>4</td>\n",
       "      <td>6.0</td>\n",
       "      <td>12.0</td>\n",
       "      <td>AMD</td>\n",
       "    </tr>\n",
       "    <tr>\n",
       "      <th>1</th>\n",
       "      <td>1</td>\n",
       "      <td>23990</td>\n",
       "      <td>56.0</td>\n",
       "      <td>Windows 11</td>\n",
       "      <td>1.0</td>\n",
       "      <td>8</td>\n",
       "      <td>512</td>\n",
       "      <td>15.6</td>\n",
       "      <td>Tecno</td>\n",
       "      <td>0</td>\n",
       "      <td>2.0</td>\n",
       "      <td>4.0</td>\n",
       "      <td>Intel</td>\n",
       "    </tr>\n",
       "    <tr>\n",
       "      <th>2</th>\n",
       "      <td>2</td>\n",
       "      <td>26989</td>\n",
       "      <td>55.0</td>\n",
       "      <td>Windows 11</td>\n",
       "      <td>1.0</td>\n",
       "      <td>8</td>\n",
       "      <td>512</td>\n",
       "      <td>15.6</td>\n",
       "      <td>Lenovo</td>\n",
       "      <td>0</td>\n",
       "      <td>4.0</td>\n",
       "      <td>8.0</td>\n",
       "      <td>AMD</td>\n",
       "    </tr>\n",
       "    <tr>\n",
       "      <th>3</th>\n",
       "      <td>3</td>\n",
       "      <td>69990</td>\n",
       "      <td>60.0</td>\n",
       "      <td>Windows 11</td>\n",
       "      <td>1.0</td>\n",
       "      <td>16</td>\n",
       "      <td>512</td>\n",
       "      <td>13.3</td>\n",
       "      <td>Samsung</td>\n",
       "      <td>0</td>\n",
       "      <td>12.0</td>\n",
       "      <td>16.0</td>\n",
       "      <td>Intel</td>\n",
       "    </tr>\n",
       "    <tr>\n",
       "      <th>4</th>\n",
       "      <td>4</td>\n",
       "      <td>102990</td>\n",
       "      <td>78.0</td>\n",
       "      <td>Windows 11</td>\n",
       "      <td>1.0</td>\n",
       "      <td>16</td>\n",
       "      <td>1024</td>\n",
       "      <td>16.1</td>\n",
       "      <td>Xiaomi</td>\n",
       "      <td>8</td>\n",
       "      <td>24.0</td>\n",
       "      <td>32.0</td>\n",
       "      <td>Intel</td>\n",
       "    </tr>\n",
       "  </tbody>\n",
       "</table>\n",
       "</div>"
      ],
      "text/plain": [
       "   Unnamed: 0   Price  Rating          OS  Warranty  Ram_GB  SSD_GB  \\\n",
       "0           0   50399    70.0  Windows 11       1.0       8     512   \n",
       "1           1   23990    56.0  Windows 11       1.0       8     512   \n",
       "2           2   26989    55.0  Windows 11       1.0       8     512   \n",
       "3           3   69990    60.0  Windows 11       1.0      16     512   \n",
       "4           4  102990    78.0  Windows 11       1.0      16    1024   \n",
       "\n",
       "   Display_size_inch    Brand  GPU_Memory_GB  Core_Count  Core_Threads  \\\n",
       "0               15.6       HP              4         6.0          12.0   \n",
       "1               15.6    Tecno              0         2.0           4.0   \n",
       "2               15.6   Lenovo              0         4.0           8.0   \n",
       "3               13.3  Samsung              0        12.0          16.0   \n",
       "4               16.1   Xiaomi              8        24.0          32.0   \n",
       "\n",
       "  Processor  \n",
       "0       AMD  \n",
       "1     Intel  \n",
       "2       AMD  \n",
       "3     Intel  \n",
       "4     Intel  "
      ]
     },
     "execution_count": 1,
     "metadata": {},
     "output_type": "execute_result"
    }
   ],
   "source": [
    "import numpy as np\n",
    "import pandas as pd\n",
    "import seaborn as sns\n",
    "import matplotlib.pyplot as plt\n",
    "from sklearn.feature_selection import mutual_info_regression\n",
    "\n",
    "df = pd.read_csv('laptop_preprocess.csv')\n",
    "df.head()"
   ]
  },
  {
   "cell_type": "code",
   "execution_count": 2,
   "id": "996c33c9-b996-48dc-bb21-08ef605d64b9",
   "metadata": {},
   "outputs": [
    {
     "data": {
      "text/plain": [
       "(920, 11)"
      ]
     },
     "execution_count": 2,
     "metadata": {},
     "output_type": "execute_result"
    }
   ],
   "source": [
    "\n",
    "X = df.copy().drop(columns='Warranty')#because warranty has 0 \n",
    "y = X.pop('Rating')\n",
    "\n",
    "# Label encoding for categoricals\n",
    "for colname in X.select_dtypes(\"object\"):\n",
    "    X[colname], _ = X[colname].factorize()\n",
    "\n",
    "# All discrete features should now have integer dtypes (double-check this before using MI!)\n",
    "discrete_features= X.dtypes == int\n",
    "\n",
    "X.shape"
   ]
  },
  {
   "cell_type": "code",
   "execution_count": 3,
   "id": "3ab31df3-8ced-467f-b3ef-55fef284a16a",
   "metadata": {},
   "outputs": [
    {
     "name": "stdout",
     "output_type": "stream",
     "text": [
      "\n",
      "--- Debug inside make_mi_scores (Start of new checks) ---\n",
      "\n",
      "--- Post-conversion and Pre-MI Call Checks ---\n",
      "X final shape: (920, 11)\n",
      "y_processed final shape: (920,)\n",
      "Total NaNs in X: 0\n",
      "Total NaNs in y_processed: 0\n",
      "Columns in X with ALL NaNs: []\n",
      "X dtypes:\n",
      "Unnamed: 0             int64\n",
      "Price                  int64\n",
      "OS                     int64\n",
      "Ram_GB                 int64\n",
      "SSD_GB                 int64\n",
      "Display_size_inch    float64\n",
      "Brand                  int64\n",
      "GPU_Memory_GB          int64\n",
      "Core_Count           float64\n",
      "Core_Threads         float64\n",
      "Processor              int64\n",
      "dtype: object\n",
      "y_processed dtype: float64\n",
      "Warning: discrete_features format not recognized or empty. Assuming all features are continuous.\n",
      "Discrete features mask (bools, first 5): [False False False False False]...\n",
      "Type of discrete_features_mask: <class 'numpy.ndarray'>\n",
      "Dtype of discrete_features_mask: bool\n",
      "Number of True (discrete) features: 0\n",
      "--- Debug inside make_mi_scores (End of new checks) ---\n",
      "\n"
     ]
    },
    {
     "data": {
      "text/plain": [
       "Price                0.489036\n",
       "Core_Count           0.288021\n",
       "Display_size_inch    0.135300\n",
       "Processor            0.023580\n",
       "Name: MI Scores, dtype: float64"
      ]
     },
     "execution_count": 3,
     "metadata": {},
     "output_type": "execute_result"
    }
   ],
   "source": [
    "def make_mi_scores(X, y, discrete_features):\n",
    "    print(f\"\\n--- Debug inside make_mi_scores (Start of new checks) ---\")\n",
    "\n",
    "    # --- Y Conversion (as previously implemented - keep this) ---\n",
    "    y_processed = y\n",
    "    if y.ndim == 2 and y.shape[1] == 1:\n",
    "        if isinstance(y, pd.DataFrame):\n",
    "            y_processed = y.iloc[:, 0]\n",
    "        else: # Assuming numpy array\n",
    "            y_processed = y.ravel()\n",
    "        print(f\"Y converted. New y_processed shape: {y_processed.shape}, y_processed empty: {y_processed.empty}\")\n",
    "    elif y.ndim > 1:\n",
    "        print(f\"Warning: y has more than 1 dimension and is not (N,1). mutual_info_regression expects 1D or (N,1) for single output.\")\n",
    "\n",
    "    # --- CRITICAL CHECKS HERE (keep these for future debugging if needed) ---\n",
    "    print(f\"\\n--- Post-conversion and Pre-MI Call Checks ---\")\n",
    "    print(f\"X final shape: {X.shape}\")\n",
    "    print(f\"y_processed final shape: {y_processed.shape}\")\n",
    "    if X.empty: raise ValueError(\"X is empty before MI calculation.\")\n",
    "    if y_processed.empty: raise ValueError(\"y_processed is empty before MI calculation.\")\n",
    "    if X.shape[0] != y_processed.shape[0]: raise ValueError(f\"X and y_processed sample count mismatch: X has {X.shape[0]}, y has {y_processed.shape[0]}.\")\n",
    "    print(f\"Total NaNs in X: {X.isnull().sum().sum()}\")\n",
    "    print(f\"Total NaNs in y_processed: {y_processed.isnull().sum()}\")\n",
    "    all_nan_cols = X.columns[X.isnull().all()].tolist()\n",
    "    print(f\"Columns in X with ALL NaNs: {all_nan_cols}\")\n",
    "    if y_processed.isnull().all(): print(f\"WARNING: y_processed is entirely NaNs!\")\n",
    "    print(f\"X dtypes:\\n{X.dtypes}\")\n",
    "    print(f\"y_processed dtype: {y_processed.dtype}\")\n",
    "    object_cols_in_X = X.select_dtypes(include=['object']).columns.tolist()\n",
    "    if object_cols_in_X:\n",
    "        print(f\"WARNING: X contains 'object' type columns: {object_cols_in_X}. Ensure they are correctly handled (e.g., encoded or made discrete).\")\n",
    "\n",
    " # --- Discrete Features Mask Construction (REVISED PART) ---\n",
    "    temp_discrete_features_mask = None # Use a temporary variable first\n",
    "\n",
    "    if all(isinstance(f, str) for f in discrete_features):\n",
    "        missing_cols = [col for col in discrete_features if col not in X.columns]\n",
    "        if missing_cols:\n",
    "            print(f\"Warning: Discrete feature column names not found in X: {missing_cols}. These will be ignored.\")\n",
    "            temp_discrete_features_mask = X.columns.isin([col for col in discrete_features if col in X.columns])\n",
    "        else:\n",
    "            temp_discrete_features_mask = X.columns.isin(discrete_features)\n",
    "    elif isinstance(discrete_features, (list, np.ndarray)) and all(isinstance(f, (bool, np.bool_)) for f in discrete_features):\n",
    "        if len(discrete_features) != X.shape[1]:\n",
    "            raise ValueError(f\"Length of discrete_features ({len(discrete_features)}) must match number of columns in X ({X.shape[1]}).\")\n",
    "        temp_discrete_features_mask = discrete_features\n",
    "    else:\n",
    "        print(\"Warning: discrete_features format not recognized or empty. Assuming all features are continuous.\")\n",
    "        temp_discrete_features_mask = [False] * X.shape[1]\n",
    "\n",
    "    # --- THE CRITICAL FIX: Convert to NumPy boolean array ---\n",
    "    # Ensure temp_discrete_features_mask is a boolean numpy array for mutual_info_regression\n",
    "    discrete_features_mask = np.asarray(temp_discrete_features_mask, dtype=bool)\n",
    "\n",
    "     # --- Final check on discrete_features_mask ---\n",
    "    print(f\"Discrete features mask (bools, first 5): {discrete_features_mask[:5] if len(discrete_features_mask) > 5 else discrete_features_mask}...\")\n",
    "    print(f\"Type of discrete_features_mask: {type(discrete_features_mask)}\") # Should now be <class 'numpy.ndarray'>\n",
    "    print(f\"Dtype of discrete_features_mask: {discrete_features_mask.dtype}\") # Should be 'bool'\n",
    "    print(f\"Number of True (discrete) features: {np.sum(discrete_features_mask)}\")\n",
    "\n",
    "    print(f\"--- Debug inside make_mi_scores (End of new checks) ---\\n\")\n",
    "\n",
    "\n",
    "    # --- THE ACTUAL MUTUAL_INFO_REGRESSION CALL ---\n",
    "    mi_scores = mutual_info_regression(X, y_processed, discrete_features=discrete_features_mask)\n",
    "    # ... rest of your function\n",
    "    mi_scores = pd.Series(mi_scores, name=\"MI Scores\", index=X.columns)\n",
    "    mi_scores = mi_scores.sort_values(ascending=False)\n",
    "    return mi_scores\n",
    "\n",
    "mi_scores = make_mi_scores(X, y, discrete_features)\n",
    "mi_scores[::3]  # show a few features with their MI scores\n",
    "\n"
   ]
  },
  {
   "cell_type": "code",
   "execution_count": 4,
   "id": "13a2eaf5-430f-46fe-8fe7-6ce7fc7096ab",
   "metadata": {},
   "outputs": [
    {
     "data": {
      "image/png": "[encoded data removed]",
      "text/plain": [
       "<Figure size 800x500 with 1 Axes>"
      ]
     },
     "metadata": {},
     "output_type": "display_data"
    }
   ],
   "source": [
    "def plot_mi_scores(scores):\n",
    "    scores = scores.sort_values(ascending=True)\n",
    "    width = np.arange(len(scores))\n",
    "    ticks = list(scores.index)\n",
    "    plt.barh(width, scores)\n",
    "    plt.yticks(width, ticks)\n",
    "    plt.title(\"Mutual Information Scores\")\n",
    "\n",
    "\n",
    "plt.figure(dpi=100, figsize=(8, 5))\n",
    "plot_mi_scores(mi_scores)"
   ]
  },
  {
   "cell_type": "code",
   "execution_count": 5,
   "id": "91ed59dd-b193-45bf-b302-49d33f6530fd",
   "metadata": {},
   "outputs": [],
   "source": [
    "feature = ['Price','Core_Threads','GPU_Memory_GB','Core_Count','Ram_GB','SSD_GB','Display_size_inch','Brand']\n",
    "\n",
    "X = df[feature]"
   ]
  },
  {
   "cell_type": "code",
   "execution_count": 6,
   "id": "4c1a3758-b287-4b98-9724-7461a7e894a9",
   "metadata": {},
   "outputs": [
    {
     "name": "stdout",
     "output_type": "stream",
     "text": [
      "Categorical variables:\n",
      "['Brand']\n"
     ]
    }
   ],
   "source": [
    "from sklearn.tree import DecisionTreeRegressor\n",
    "from sklearn.metrics import mean_absolute_error\n",
    "from sklearn.model_selection import train_test_split\n",
    "\n",
    "y= y\n",
    "X= X\n",
    "\n",
    "model = DecisionTreeRegressor()\n",
    "\n",
    "train_X, val_X, train_y, val_y = train_test_split(X, y, random_state = 0)\n",
    "\n",
    "s = (train_X.dtypes == 'object')\n",
    "object_cols = list(s[s].index)\n",
    "\n",
    "print(\"Categorical variables:\")\n",
    "print(object_cols)"
   ]
  },
  {
   "cell_type": "code",
   "execution_count": 7,
   "id": "ce2b81f4-b1e4-42ba-a528-6311f3bfd7a8",
   "metadata": {},
   "outputs": [],
   "source": [
    "from sklearn.preprocessing import OrdinalEncoder\n",
    "\n",
    "# Make copy to avoid changing original data \n",
    "label_X_train = train_X.copy()\n",
    "label_X_valid = val_X.copy()\n",
    "\n",
    "# Apply ordinal encoder to each column with categorical data\n",
    "ordinal_encoder = OrdinalEncoder(handle_unknown='use_encoded_value',unknown_value=np.nan)\n",
    "label_X_train[object_cols] = ordinal_encoder.fit_transform(train_X[object_cols])\n",
    "label_X_valid[object_cols] = ordinal_encoder.transform(val_X[object_cols])"
   ]
  },
  {
   "cell_type": "code",
   "execution_count": 8,
   "id": "6056143c-7774-4179-ac92-033d9a16f3de",
   "metadata": {},
   "outputs": [
    {
     "name": "stdout",
     "output_type": "stream",
     "text": [
      "3.445122848731885\n"
     ]
    }
   ],
   "source": [
    "model.fit(label_X_train, train_y)\n",
    "val_predictions = model.predict(label_X_valid)\n",
    "print(mean_absolute_error(val_y, val_predictions))\n"
   ]
  },
  {
   "cell_type": "code",
   "execution_count": null,
   "id": "c6c0ccc4-ff2f-4091-ac02-e50c335ef0cd",
   "metadata": {},
   "outputs": [],
   "source": []
  }
 ],
 "metadata": {
  "kernelspec": {
   "display_name": "Python 3 (ipykernel)",
   "language": "python",
   "name": "python3"
  },
  "language_info": {
   "codemirror_mode": {
    "name": "ipython",
    "version": 3
   },
   "file_extension": ".py",
   "mimetype": "text/x-python",
   "name": "python",
   "nbconvert_exporter": "python",
   "pygments_lexer": "ipython3",
   "version": "3.13.0"
  }
 },
 "nbformat": 4,
 "nbformat_minor": 5
}
