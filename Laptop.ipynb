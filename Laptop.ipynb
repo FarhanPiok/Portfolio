{
 "cells": [
  {
   "cell_type": "code",
   "execution_count": 1,
   "id": "0cd6e03b-7ac9-4d29-945f-90c91c21066c",
   "metadata": {},
   "outputs": [
    {
     "data": {
      "text/html": [
       "<div>\n",
       "<style scoped>\n",
       "    .dataframe tbody tr th:only-of-type {\n",
       "        vertical-align: middle;\n",
       "    }\n",
       "\n",
       "    .dataframe tbody tr th {\n",
       "        vertical-align: top;\n",
       "    }\n",
       "\n",
       "    .dataframe thead th {\n",
       "        text-align: right;\n",
       "    }\n",
       "</style>\n",
       "<table border=\"1\" class=\"dataframe\">\n",
       "  <thead>\n",
       "    <tr style=\"text-align: right;\">\n",
       "      <th></th>\n",
       "      <th>Unnamed: 0</th>\n",
       "      <th>Model</th>\n",
       "      <th>Price</th>\n",
       "      <th>Rating</th>\n",
       "      <th>Generation</th>\n",
       "      <th>Core</th>\n",
       "      <th>Ram</th>\n",
       "      <th>SSD</th>\n",
       "      <th>Display</th>\n",
       "      <th>Graphics</th>\n",
       "      <th>OS</th>\n",
       "      <th>Warranty</th>\n",
       "    </tr>\n",
       "  </thead>\n",
       "  <tbody>\n",
       "    <tr>\n",
       "      <th>0</th>\n",
       "      <td>0</td>\n",
       "      <td>HP Victus 15-fb0157AX Gaming Laptop (AMD Ryzen...</td>\n",
       "      <td>₹50,399</td>\n",
       "      <td>70.0</td>\n",
       "      <td>5th Gen AMD Ryzen 5 5600H</td>\n",
       "      <td>Hexa Core, 12 Threads</td>\n",
       "      <td>8 GB DDR4 RAM</td>\n",
       "      <td>512 GB SSD</td>\n",
       "      <td>15.6 inches, 1920 x 1080 pixels, Touch Screen</td>\n",
       "      <td>4 GB AMD Radeon RX 6500M</td>\n",
       "      <td>Windows 11 OS</td>\n",
       "      <td>1 Year Warranty</td>\n",
       "    </tr>\n",
       "    <tr>\n",
       "      <th>1</th>\n",
       "      <td>1</td>\n",
       "      <td>Tecno Megabook T1 Laptop (11th Gen Core i3/ 8G...</td>\n",
       "      <td>₹23,990</td>\n",
       "      <td>56.0</td>\n",
       "      <td>11th Gen Intel Core i3 1115G4</td>\n",
       "      <td>Dual Core, 4 Threads</td>\n",
       "      <td>8 GB LPDDR4 RAM</td>\n",
       "      <td>512 GB SSD</td>\n",
       "      <td>15.6 inches, 1920 x 1080 pixels</td>\n",
       "      <td>Intel UHD Graphics</td>\n",
       "      <td>Windows 11 OS</td>\n",
       "      <td>1 Year Warranty</td>\n",
       "    </tr>\n",
       "    <tr>\n",
       "      <th>2</th>\n",
       "      <td>2</td>\n",
       "      <td>Lenovo V15 G4 ‎82YU00W7IN Laptop (AMD Ryzen 3 ...</td>\n",
       "      <td>₹26,989</td>\n",
       "      <td>55.0</td>\n",
       "      <td>7th Gen AMD Ryzen 3 7320U</td>\n",
       "      <td>Quad Core, 8 Threads</td>\n",
       "      <td>8 GB LPDDR5 RAM</td>\n",
       "      <td>512 GB SSD</td>\n",
       "      <td>15.6 inches, 1920 x 1080 pixels</td>\n",
       "      <td>AMD Radeon Graphics</td>\n",
       "      <td>Windows 11 OS</td>\n",
       "      <td>1 Year Warranty</td>\n",
       "    </tr>\n",
       "    <tr>\n",
       "      <th>3</th>\n",
       "      <td>3</td>\n",
       "      <td>Samsung Galaxy Book2 Pro 13 Laptop (12th Gen C...</td>\n",
       "      <td>₹69,990</td>\n",
       "      <td>60.0</td>\n",
       "      <td>12th Gen Intel Core i5 1240P</td>\n",
       "      <td>12 Cores (4P + 8E), 16 Threads</td>\n",
       "      <td>16 GB LPDDR5 RAM</td>\n",
       "      <td>512 GB SSD</td>\n",
       "      <td>13.3 inches, 1080 x 1920 pixels</td>\n",
       "      <td>Intel Iris Xe Graphics</td>\n",
       "      <td>Windows 11 OS</td>\n",
       "      <td>1 Year Warranty</td>\n",
       "    </tr>\n",
       "    <tr>\n",
       "      <th>4</th>\n",
       "      <td>4</td>\n",
       "      <td>Xiaomi Redmi G Pro 2024 Gaming Laptop (14th Ge...</td>\n",
       "      <td>₹1,02,990</td>\n",
       "      <td>78.0</td>\n",
       "      <td>14th Gen Intel Core i9 14900HX</td>\n",
       "      <td>24 Cores (8P + 16E), 32 Threads</td>\n",
       "      <td>16 GB DDR5 RAM</td>\n",
       "      <td>1 TB SSD</td>\n",
       "      <td>16.1 inches, 2560 x 1600 pixels</td>\n",
       "      <td>8 GB NVIDIA GeForce RTX 4060</td>\n",
       "      <td>Windows 11 OS</td>\n",
       "      <td>1 Year Warranty</td>\n",
       "    </tr>\n",
       "  </tbody>\n",
       "</table>\n",
       "</div>"
      ],
      "text/plain": [
       "   Unnamed: 0                                              Model      Price  \\\n",
       "0           0  HP Victus 15-fb0157AX Gaming Laptop (AMD Ryzen...    ₹50,399   \n",
       "1           1  Tecno Megabook T1 Laptop (11th Gen Core i3/ 8G...    ₹23,990   \n",
       "2           2  Lenovo V15 G4 ‎82YU00W7IN Laptop (AMD Ryzen 3 ...    ₹26,989   \n",
       "3           3  Samsung Galaxy Book2 Pro 13 Laptop (12th Gen C...    ₹69,990   \n",
       "4           4  Xiaomi Redmi G Pro 2024 Gaming Laptop (14th Ge...  ₹1,02,990   \n",
       "\n",
       "   Rating                      Generation                             Core  \\\n",
       "0    70.0       5th Gen AMD Ryzen 5 5600H            Hexa Core, 12 Threads   \n",
       "1    56.0   11th Gen Intel Core i3 1115G4             Dual Core, 4 Threads   \n",
       "2    55.0       7th Gen AMD Ryzen 3 7320U             Quad Core, 8 Threads   \n",
       "3    60.0    12th Gen Intel Core i5 1240P   12 Cores (4P + 8E), 16 Threads   \n",
       "4    78.0  14th Gen Intel Core i9 14900HX  24 Cores (8P + 16E), 32 Threads   \n",
       "\n",
       "                Ram         SSD  \\\n",
       "0     8 GB DDR4 RAM  512 GB SSD   \n",
       "1   8 GB LPDDR4 RAM  512 GB SSD   \n",
       "2   8 GB LPDDR5 RAM  512 GB SSD   \n",
       "3  16 GB LPDDR5 RAM  512 GB SSD   \n",
       "4    16 GB DDR5 RAM    1 TB SSD   \n",
       "\n",
       "                                         Display  \\\n",
       "0  15.6 inches, 1920 x 1080 pixels, Touch Screen   \n",
       "1                15.6 inches, 1920 x 1080 pixels   \n",
       "2                15.6 inches, 1920 x 1080 pixels   \n",
       "3                13.3 inches, 1080 x 1920 pixels   \n",
       "4                16.1 inches, 2560 x 1600 pixels   \n",
       "\n",
       "                       Graphics             OS         Warranty  \n",
       "0      4 GB AMD Radeon RX 6500M  Windows 11 OS  1 Year Warranty  \n",
       "1            Intel UHD Graphics  Windows 11 OS  1 Year Warranty  \n",
       "2           AMD Radeon Graphics  Windows 11 OS  1 Year Warranty  \n",
       "3        Intel Iris Xe Graphics  Windows 11 OS  1 Year Warranty  \n",
       "4  8 GB NVIDIA GeForce RTX 4060  Windows 11 OS  1 Year Warranty  "
      ]
     },
     "execution_count": 1,
     "metadata": {},
     "output_type": "execute_result"
    }
   ],
   "source": [
    "import numpy as np\n",
    "import pandas as pd\n",
    "import matplotlib.pyplot as plt\n",
    "import seaborn as sns\n",
    "\n",
    "df= pd.read_csv('laptop.csv')\n",
    "df.head()"
   ]
  },
  {
   "cell_type": "code",
   "execution_count": 2,
   "id": "7b95948c-c914-4618-8eb5-22efbae292f6",
   "metadata": {},
   "outputs": [
    {
     "data": {
      "text/plain": [
       "Unnamed: 0      0\n",
       "Model           0\n",
       "Price           0\n",
       "Rating        152\n",
       "Generation      0\n",
       "Core            0\n",
       "Ram             0\n",
       "SSD             0\n",
       "Display         1\n",
       "Graphics        0\n",
       "OS              1\n",
       "Warranty        5\n",
       "dtype: int64"
      ]
     },
     "execution_count": 2,
     "metadata": {},
     "output_type": "execute_result"
    }
   ],
   "source": [
    "df.isnull().sum()"
   ]
  },
  {
   "cell_type": "code",
   "execution_count": 3,
   "id": "c71a39b2-822b-4652-a6a6-18fd1bbb1113",
   "metadata": {},
   "outputs": [
    {
     "data": {
      "text/plain": [
       "Index(['Unnamed: 0', 'Model', 'Price', 'Rating', 'Generation', 'Core', 'Ram',\n",
       "       'SSD', 'Display', 'Graphics', 'OS', 'Warranty'],\n",
       "      dtype='object')"
      ]
     },
     "execution_count": 3,
     "metadata": {},
     "output_type": "execute_result"
    }
   ],
   "source": [
    "df.columns"
   ]
  },
  {
   "cell_type": "code",
   "execution_count": 4,
   "id": "7c7ed7b7-2267-4b1f-8596-a40e148fb5a6",
   "metadata": {},
   "outputs": [
    {
     "data": {
      "text/plain": [
       "array(['Hexa Core, 12 Threads', 'Dual Core, 4 Threads',\n",
       "       'Quad Core, 8 Threads', '12 Cores (4P + 8E), 16 Threads',\n",
       "       '24 Cores (8P + 16E), 32 Threads',\n",
       "       'Hexa Core (2P + 4E), 8 Threads', 'Octa Core (4P + 4E)',\n",
       "       '10 Cores (2P + 8E), 12 Threads', 'Octa Core, 16 Threads',\n",
       "       '12 Cores (2P + 8E + 2LP-E), 14 Threads',\n",
       "       '16 Cores (6P + 8E + 2LP-E), 22 Threads',\n",
       "       'Octa Core (4P + 4E), 12 Threads',\n",
       "       '10 Cores (6P + 4E), 16 Threads', 'Dual Core, 2 Threads',\n",
       "       '14 Cores (6P + 8E), 20 Threads',\n",
       "       '14 Cores (4P + 8E + 2LP-E), 18 Threads',\n",
       "       '20 Cores (8P + 12E), 28 Threads', '32\\u2009GB DDR5 RAM',\n",
       "       '16 Cores (12P + 4E)', '14 Cores (6P + 8E)',\n",
       "       'Quad Core, 4 Threads', '16 Cores (8P + 8E), 24 Threads',\n",
       "       'Memory: 8 GB LPDDR4 Memory (On BD 8 GB)', 'Quad Core',\n",
       "       '32\\u2009GB LPDDR5X RAM', '14 Cores (10P + 4E)',\n",
       "       '11 Cores (5P + 6E)', '14 Cores, 20 Threads',\n",
       "       '16\\u2009GB DDR5 RAM', '5 Cores (1P + 4E), 6 Threads', 'Octa Core',\n",
       "       '5 Cores, 5 Threads', '16\\u2009GB  RAM',\n",
       "       '4\\u2009GB \\u200eLPDDR4 RAM', 'Octa Core, 8 Threads',\n",
       "       '12 Cores (6P + 6E)', 'Dual Core', '24 Cores (8P + 16E)',\n",
       "       '20 Threads', '12 Cores, 24 Threads'], dtype=object)"
      ]
     },
     "execution_count": 4,
     "metadata": {},
     "output_type": "execute_result"
    }
   ],
   "source": [
    "df['Core'].unique()"
   ]
  },
  {
   "cell_type": "code",
   "execution_count": 5,
   "id": "7c61bfe8-4f1f-401d-9327-7ca95cc0c345",
   "metadata": {},
   "outputs": [
    {
     "name": "stderr",
     "output_type": "stream",
     "text": [
      "C:\\Users\\PC-NB\\AppData\\Local\\Temp\\ipykernel_9704\\3018744207.py:1: FutureWarning: A value is trying to be set on a copy of a DataFrame or Series through chained assignment using an inplace method.\n",
      "The behavior will change in pandas 3.0. This inplace method will never work because the intermediate object on which we are setting values always behaves as a copy.\n",
      "\n",
      "For example, when doing 'df[col].method(value, inplace=True)', try using 'df.method({col: value}, inplace=True)' or df[col] = df[col].method(value) instead, to perform the operation inplace on the original object.\n",
      "\n",
      "\n",
      "  df['Rating'].fillna(df['Rating'].mean(), inplace=True)\n",
      "C:\\Users\\PC-NB\\AppData\\Local\\Temp\\ipykernel_9704\\3018744207.py:3: FutureWarning: A value is trying to be set on a copy of a DataFrame or Series through chained assignment using an inplace method.\n",
      "The behavior will change in pandas 3.0. This inplace method will never work because the intermediate object on which we are setting values always behaves as a copy.\n",
      "\n",
      "For example, when doing 'df[col].method(value, inplace=True)', try using 'df.method({col: value}, inplace=True)' or df[col] = df[col].method(value) instead, to perform the operation inplace on the original object.\n",
      "\n",
      "\n",
      "  df['Warranty'].fillna('0 Year Warranty', inplace=True)\n",
      "C:\\Users\\PC-NB\\AppData\\Local\\Temp\\ipykernel_9704\\3018744207.py:5: FutureWarning: A value is trying to be set on a copy of a DataFrame or Series through chained assignment using an inplace method.\n",
      "The behavior will change in pandas 3.0. This inplace method will never work because the intermediate object on which we are setting values always behaves as a copy.\n",
      "\n",
      "For example, when doing 'df[col].method(value, inplace=True)', try using 'df.method({col: value}, inplace=True)' or df[col] = df[col].method(value) instead, to perform the operation inplace on the original object.\n",
      "\n",
      "\n",
      "  df['OS'].fillna(df['OS'].mode()[0], inplace=True)\n",
      "C:\\Users\\PC-NB\\AppData\\Local\\Temp\\ipykernel_9704\\3018744207.py:7: FutureWarning: A value is trying to be set on a copy of a DataFrame or Series through chained assignment using an inplace method.\n",
      "The behavior will change in pandas 3.0. This inplace method will never work because the intermediate object on which we are setting values always behaves as a copy.\n",
      "\n",
      "For example, when doing 'df[col].method(value, inplace=True)', try using 'df.method({col: value}, inplace=True)' or df[col] = df[col].method(value) instead, to perform the operation inplace on the original object.\n",
      "\n",
      "\n",
      "  df['Display'].fillna(df['Display'].mode()[0], inplace=True)\n"
     ]
    }
   ],
   "source": [
    "df['Rating'].fillna(df['Rating'].mean(), inplace=True)\n",
    "\n",
    "df['Warranty'].fillna('0 Year Warranty', inplace=True)\n",
    "\n",
    "df['OS'].fillna(df['OS'].mode()[0], inplace=True)\n",
    "\n",
    "df['Display'].fillna(df['Display'].mode()[0], inplace=True)"
   ]
  },
  {
   "cell_type": "code",
   "execution_count": 6,
   "id": "35a15c3c-95e8-4411-b1d6-f530acf7f350",
   "metadata": {},
   "outputs": [
    {
     "data": {
      "text/plain": [
       "Unnamed: 0    0\n",
       "Model         0\n",
       "Price         0\n",
       "Rating        0\n",
       "Generation    0\n",
       "Core          0\n",
       "Ram           0\n",
       "SSD           0\n",
       "Display       0\n",
       "Graphics      0\n",
       "OS            0\n",
       "Warranty      0\n",
       "dtype: int64"
      ]
     },
     "execution_count": 6,
     "metadata": {},
     "output_type": "execute_result"
    }
   ],
   "source": [
    "df.isna().sum()"
   ]
  },
  {
   "cell_type": "code",
   "execution_count": 7,
   "id": "ee938b71-4ce0-4862-9f3e-20b4a787d9a8",
   "metadata": {},
   "outputs": [
    {
     "data": {
      "text/plain": [
       "Brand\n",
       "Lenovo       217\n",
       "HP           175\n",
       "Asus         132\n",
       "Dell          97\n",
       "MSI           96\n",
       "Acer          70\n",
       "Samsung       24\n",
       "Infinix       20\n",
       "Apple         18\n",
       "Chuwi          8\n",
       "Zebronics      7\n",
       "LG             7\n",
       "Xiaomi         6\n",
       "Gigabyte       5\n",
       "Ultimus        5\n",
       "Avita          4\n",
       "Wings          4\n",
       "Honor          3\n",
       "Huawei         3\n",
       "Fujitsu        3\n",
       "AXL            2\n",
       "‎HP            2\n",
       "Jio            2\n",
       "Primebook      2\n",
       "Microsoft      2\n",
       "Colorful       1\n",
       "Tecno          1\n",
       "iBall          1\n",
       "Walker         1\n",
       "Ninkear        1\n",
       "Razer          1\n",
       "Name: count, dtype: int64"
      ]
     },
     "execution_count": 7,
     "metadata": {},
     "output_type": "execute_result"
    }
   ],
   "source": [
    "df['Brand'] = df['Model'].apply(lambda x: x.split()[0])\n",
    "df['Brand'].value_counts()"
   ]
  },
  {
   "cell_type": "code",
   "execution_count": 8,
   "id": "6bb2583e-f6aa-412b-a206-73020e1731ea",
   "metadata": {},
   "outputs": [],
   "source": [
    "df['Price'] = df['Price'].replace('[₹,]', '', regex=True).astype(int)"
   ]
  },
  {
   "cell_type": "code",
   "execution_count": 9,
   "id": "a8d3560d-2bd6-486f-9dee-234ef605a3bc",
   "metadata": {},
   "outputs": [],
   "source": [
    "df['Ram_GB'] = df['Ram'].str.extract(r'(\\d+)').astype(int)"
   ]
  },
  {
   "cell_type": "code",
   "execution_count": 10,
   "id": "29f14000-ec97-4182-964e-044f15e6644e",
   "metadata": {},
   "outputs": [],
   "source": [
    "import re\n",
    "def convert_ssd(value):\n",
    "    if 'TB' in value:\n",
    "        tb = int(re.search(r'(\\d+)', value).group(1))\n",
    "        return tb * 1024\n",
    "    elif 'GB' in value:\n",
    "        gb = int(re.search(r'(\\d+)', value).group(1))\n",
    "        return gb\n",
    "    else:\n",
    "        return 0\n",
    "\n",
    "df['SSD_GB'] = df['SSD'].fillna('0 GB').apply(convert_ssd)"
   ]
  },
  {
   "cell_type": "code",
   "execution_count": 11,
   "id": "97010d53-4118-4fbb-a8a1-934d827d9369",
   "metadata": {},
   "outputs": [],
   "source": [
    "df['Display_size_inch'] = df['Display'].str.extract(r'(\\d+\\.?\\d*)').astype(float)"
   ]
  },
  {
   "cell_type": "code",
   "execution_count": 12,
   "id": "d5932d4e-ea61-42d0-b422-838df0703e1c",
   "metadata": {},
   "outputs": [],
   "source": [
    "df['GPU_Memory_GB'] = df['Graphics'].str.extract(r'(\\d+)\\s*GB')"
   ]
  },
  {
   "cell_type": "code",
   "execution_count": 13,
   "id": "44424722-9632-46b7-b18c-f6f7ae780d9f",
   "metadata": {},
   "outputs": [],
   "source": [
    "df['GPU_Memory_GB'] = df['GPU_Memory_GB'].fillna(0).astype(int)"
   ]
  },
  {
   "cell_type": "code",
   "execution_count": 14,
   "id": "63b4a60e-973a-458c-828c-ffddb19e41d3",
   "metadata": {},
   "outputs": [
    {
     "data": {
      "text/html": [
       "<div>\n",
       "<style scoped>\n",
       "    .dataframe tbody tr th:only-of-type {\n",
       "        vertical-align: middle;\n",
       "    }\n",
       "\n",
       "    .dataframe tbody tr th {\n",
       "        vertical-align: top;\n",
       "    }\n",
       "\n",
       "    .dataframe thead th {\n",
       "        text-align: right;\n",
       "    }\n",
       "</style>\n",
       "<table border=\"1\" class=\"dataframe\">\n",
       "  <thead>\n",
       "    <tr style=\"text-align: right;\">\n",
       "      <th></th>\n",
       "      <th>Unnamed: 0</th>\n",
       "      <th>Model</th>\n",
       "      <th>Price</th>\n",
       "      <th>Rating</th>\n",
       "      <th>Generation</th>\n",
       "      <th>Core</th>\n",
       "      <th>Ram</th>\n",
       "      <th>SSD</th>\n",
       "      <th>Display</th>\n",
       "      <th>Graphics</th>\n",
       "      <th>OS</th>\n",
       "      <th>Warranty</th>\n",
       "      <th>Brand</th>\n",
       "      <th>Ram_GB</th>\n",
       "      <th>SSD_GB</th>\n",
       "      <th>Display_size_inch</th>\n",
       "      <th>GPU_Memory_GB</th>\n",
       "      <th>Core_Count</th>\n",
       "      <th>Core_Threads</th>\n",
       "    </tr>\n",
       "  </thead>\n",
       "  <tbody>\n",
       "    <tr>\n",
       "      <th>0</th>\n",
       "      <td>0</td>\n",
       "      <td>HP Victus 15-fb0157AX Gaming Laptop (AMD Ryzen...</td>\n",
       "      <td>50399</td>\n",
       "      <td>70.0</td>\n",
       "      <td>5th Gen AMD Ryzen 5 5600H</td>\n",
       "      <td>Hexa Core, 12 Threads</td>\n",
       "      <td>8 GB DDR4 RAM</td>\n",
       "      <td>512 GB SSD</td>\n",
       "      <td>15.6 inches, 1920 x 1080 pixels, Touch Screen</td>\n",
       "      <td>4 GB AMD Radeon RX 6500M</td>\n",
       "      <td>Windows 11 OS</td>\n",
       "      <td>1 Year Warranty</td>\n",
       "      <td>HP</td>\n",
       "      <td>8</td>\n",
       "      <td>512</td>\n",
       "      <td>15.6</td>\n",
       "      <td>4</td>\n",
       "      <td>Hexa Core</td>\n",
       "      <td>12 Threads</td>\n",
       "    </tr>\n",
       "    <tr>\n",
       "      <th>1</th>\n",
       "      <td>1</td>\n",
       "      <td>Tecno Megabook T1 Laptop (11th Gen Core i3/ 8G...</td>\n",
       "      <td>23990</td>\n",
       "      <td>56.0</td>\n",
       "      <td>11th Gen Intel Core i3 1115G4</td>\n",
       "      <td>Dual Core, 4 Threads</td>\n",
       "      <td>8 GB LPDDR4 RAM</td>\n",
       "      <td>512 GB SSD</td>\n",
       "      <td>15.6 inches, 1920 x 1080 pixels</td>\n",
       "      <td>Intel UHD Graphics</td>\n",
       "      <td>Windows 11 OS</td>\n",
       "      <td>1 Year Warranty</td>\n",
       "      <td>Tecno</td>\n",
       "      <td>8</td>\n",
       "      <td>512</td>\n",
       "      <td>15.6</td>\n",
       "      <td>0</td>\n",
       "      <td>Dual Core</td>\n",
       "      <td>4 Threads</td>\n",
       "    </tr>\n",
       "    <tr>\n",
       "      <th>2</th>\n",
       "      <td>2</td>\n",
       "      <td>Lenovo V15 G4 ‎82YU00W7IN Laptop (AMD Ryzen 3 ...</td>\n",
       "      <td>26989</td>\n",
       "      <td>55.0</td>\n",
       "      <td>7th Gen AMD Ryzen 3 7320U</td>\n",
       "      <td>Quad Core, 8 Threads</td>\n",
       "      <td>8 GB LPDDR5 RAM</td>\n",
       "      <td>512 GB SSD</td>\n",
       "      <td>15.6 inches, 1920 x 1080 pixels</td>\n",
       "      <td>AMD Radeon Graphics</td>\n",
       "      <td>Windows 11 OS</td>\n",
       "      <td>1 Year Warranty</td>\n",
       "      <td>Lenovo</td>\n",
       "      <td>8</td>\n",
       "      <td>512</td>\n",
       "      <td>15.6</td>\n",
       "      <td>0</td>\n",
       "      <td>Quad Core</td>\n",
       "      <td>8 Threads</td>\n",
       "    </tr>\n",
       "    <tr>\n",
       "      <th>3</th>\n",
       "      <td>3</td>\n",
       "      <td>Samsung Galaxy Book2 Pro 13 Laptop (12th Gen C...</td>\n",
       "      <td>69990</td>\n",
       "      <td>60.0</td>\n",
       "      <td>12th Gen Intel Core i5 1240P</td>\n",
       "      <td>12 Cores (4P + 8E), 16 Threads</td>\n",
       "      <td>16 GB LPDDR5 RAM</td>\n",
       "      <td>512 GB SSD</td>\n",
       "      <td>13.3 inches, 1080 x 1920 pixels</td>\n",
       "      <td>Intel Iris Xe Graphics</td>\n",
       "      <td>Windows 11 OS</td>\n",
       "      <td>1 Year Warranty</td>\n",
       "      <td>Samsung</td>\n",
       "      <td>16</td>\n",
       "      <td>512</td>\n",
       "      <td>13.3</td>\n",
       "      <td>0</td>\n",
       "      <td>12 Cores (4P + 8E)</td>\n",
       "      <td>16 Threads</td>\n",
       "    </tr>\n",
       "    <tr>\n",
       "      <th>4</th>\n",
       "      <td>4</td>\n",
       "      <td>Xiaomi Redmi G Pro 2024 Gaming Laptop (14th Ge...</td>\n",
       "      <td>102990</td>\n",
       "      <td>78.0</td>\n",
       "      <td>14th Gen Intel Core i9 14900HX</td>\n",
       "      <td>24 Cores (8P + 16E), 32 Threads</td>\n",
       "      <td>16 GB DDR5 RAM</td>\n",
       "      <td>1 TB SSD</td>\n",
       "      <td>16.1 inches, 2560 x 1600 pixels</td>\n",
       "      <td>8 GB NVIDIA GeForce RTX 4060</td>\n",
       "      <td>Windows 11 OS</td>\n",
       "      <td>1 Year Warranty</td>\n",
       "      <td>Xiaomi</td>\n",
       "      <td>16</td>\n",
       "      <td>1024</td>\n",
       "      <td>16.1</td>\n",
       "      <td>8</td>\n",
       "      <td>24 Cores (8P + 16E)</td>\n",
       "      <td>32 Threads</td>\n",
       "    </tr>\n",
       "  </tbody>\n",
       "</table>\n",
       "</div>"
      ],
      "text/plain": [
       "   Unnamed: 0                                              Model   Price  \\\n",
       "0           0  HP Victus 15-fb0157AX Gaming Laptop (AMD Ryzen...   50399   \n",
       "1           1  Tecno Megabook T1 Laptop (11th Gen Core i3/ 8G...   23990   \n",
       "2           2  Lenovo V15 G4 ‎82YU00W7IN Laptop (AMD Ryzen 3 ...   26989   \n",
       "3           3  Samsung Galaxy Book2 Pro 13 Laptop (12th Gen C...   69990   \n",
       "4           4  Xiaomi Redmi G Pro 2024 Gaming Laptop (14th Ge...  102990   \n",
       "\n",
       "   Rating                      Generation                             Core  \\\n",
       "0    70.0       5th Gen AMD Ryzen 5 5600H            Hexa Core, 12 Threads   \n",
       "1    56.0   11th Gen Intel Core i3 1115G4             Dual Core, 4 Threads   \n",
       "2    55.0       7th Gen AMD Ryzen 3 7320U             Quad Core, 8 Threads   \n",
       "3    60.0    12th Gen Intel Core i5 1240P   12 Cores (4P + 8E), 16 Threads   \n",
       "4    78.0  14th Gen Intel Core i9 14900HX  24 Cores (8P + 16E), 32 Threads   \n",
       "\n",
       "                Ram         SSD  \\\n",
       "0     8 GB DDR4 RAM  512 GB SSD   \n",
       "1   8 GB LPDDR4 RAM  512 GB SSD   \n",
       "2   8 GB LPDDR5 RAM  512 GB SSD   \n",
       "3  16 GB LPDDR5 RAM  512 GB SSD   \n",
       "4    16 GB DDR5 RAM    1 TB SSD   \n",
       "\n",
       "                                         Display  \\\n",
       "0  15.6 inches, 1920 x 1080 pixels, Touch Screen   \n",
       "1                15.6 inches, 1920 x 1080 pixels   \n",
       "2                15.6 inches, 1920 x 1080 pixels   \n",
       "3                13.3 inches, 1080 x 1920 pixels   \n",
       "4                16.1 inches, 2560 x 1600 pixels   \n",
       "\n",
       "                       Graphics             OS         Warranty    Brand  \\\n",
       "0      4 GB AMD Radeon RX 6500M  Windows 11 OS  1 Year Warranty       HP   \n",
       "1            Intel UHD Graphics  Windows 11 OS  1 Year Warranty    Tecno   \n",
       "2           AMD Radeon Graphics  Windows 11 OS  1 Year Warranty   Lenovo   \n",
       "3        Intel Iris Xe Graphics  Windows 11 OS  1 Year Warranty  Samsung   \n",
       "4  8 GB NVIDIA GeForce RTX 4060  Windows 11 OS  1 Year Warranty   Xiaomi   \n",
       "\n",
       "   Ram_GB  SSD_GB  Display_size_inch  GPU_Memory_GB           Core_Count  \\\n",
       "0       8     512               15.6              4            Hexa Core   \n",
       "1       8     512               15.6              0            Dual Core   \n",
       "2       8     512               15.6              0            Quad Core   \n",
       "3      16     512               13.3              0   12 Cores (4P + 8E)   \n",
       "4      16    1024               16.1              8  24 Cores (8P + 16E)   \n",
       "\n",
       "  Core_Threads  \n",
       "0   12 Threads  \n",
       "1    4 Threads  \n",
       "2    8 Threads  \n",
       "3   16 Threads  \n",
       "4   32 Threads  "
      ]
     },
     "execution_count": 14,
     "metadata": {},
     "output_type": "execute_result"
    }
   ],
   "source": [
    "df[['Core_Count','Core_Threads']] = df['Core'].str.split(',', expand=True)\n",
    "df.head()"
   ]
  },
  {
   "cell_type": "code",
   "execution_count": 15,
   "id": "2a9c67c7-a0af-41e7-ba25-ce27ba67e9f8",
   "metadata": {},
   "outputs": [
    {
     "data": {
      "text/plain": [
       "Unnamed: 0            0\n",
       "Model                 0\n",
       "Price                 0\n",
       "Rating                0\n",
       "Generation            0\n",
       "Core                  0\n",
       "Ram                   0\n",
       "SSD                   0\n",
       "Display               0\n",
       "Graphics              0\n",
       "OS                    0\n",
       "Warranty              0\n",
       "Brand                 0\n",
       "Ram_GB                0\n",
       "SSD_GB                0\n",
       "Display_size_inch     1\n",
       "GPU_Memory_GB         0\n",
       "Core_Count            0\n",
       "Core_Threads         43\n",
       "dtype: int64"
      ]
     },
     "execution_count": 15,
     "metadata": {},
     "output_type": "execute_result"
    }
   ],
   "source": [
    "df.isna().sum()"
   ]
  },
  {
   "cell_type": "code",
   "execution_count": 16,
   "id": "856c2e6f-2e19-48d6-9bc1-35bd7d99ae09",
   "metadata": {},
   "outputs": [
    {
     "data": {
      "text/plain": [
       "array(['Hexa Core', 'Dual Core', 'Quad Core', '12 Cores (4P + 8E)',\n",
       "       '24 Cores (8P + 16E)', 'Hexa Core (2P + 4E)',\n",
       "       'Octa Core (4P + 4E)', '10 Cores (2P + 8E)', 'Octa Core',\n",
       "       '12 Cores (2P + 8E + 2LP-E)', '16 Cores (6P + 8E + 2LP-E)',\n",
       "       '10 Cores (6P + 4E)', '14 Cores (6P + 8E)',\n",
       "       '14 Cores (4P + 8E + 2LP-E)', '20 Cores (8P + 12E)',\n",
       "       '32\\u2009GB DDR5 RAM', '16 Cores (12P + 4E)', '16 Cores (8P + 8E)',\n",
       "       'Memory: 8 GB LPDDR4 Memory (On BD 8 GB)',\n",
       "       '32\\u2009GB LPDDR5X RAM', '14 Cores (10P + 4E)',\n",
       "       '11 Cores (5P + 6E)', '14 Cores', '16\\u2009GB DDR5 RAM',\n",
       "       '5 Cores (1P + 4E)', '5 Cores', '16\\u2009GB  RAM',\n",
       "       '4\\u2009GB \\u200eLPDDR4 RAM', '12 Cores (6P + 6E)', '20 Threads',\n",
       "       '12 Cores'], dtype=object)"
      ]
     },
     "execution_count": 16,
     "metadata": {},
     "output_type": "execute_result"
    }
   ],
   "source": [
    "df['Core_Count'].unique()"
   ]
  },
  {
   "cell_type": "code",
   "execution_count": 17,
   "id": "4635ffc9-c07f-4593-b082-03681107a2f9",
   "metadata": {},
   "outputs": [
    {
     "data": {
      "text/plain": [
       "array(['6 cores', '2 cores', '4 cores', '12 cores', '24 cores', '8 cores',\n",
       "       '10 cores', '12 Cores (2P + 8E + 2LP-E)',\n",
       "       '16 Cores (6P + 8E + 2LP-E)', '10 Cores (6P + 4E)', '14 cores',\n",
       "       '14 Cores (4P + 8E + 2LP-E)', '20 Cores (8P + 12E)',\n",
       "       '32\\u2009GB DDR5 RAM', '16 Cores (12P + 4E)', '16 cores',\n",
       "       'Memory: 8 GB LPDDR4 Memory (On BD 8 GB)',\n",
       "       '32\\u2009GB LPDDR5X RAM', '14 Cores (10P + 4E)',\n",
       "       '11 Cores (5P + 6E)', '14 Cores', '16\\u2009GB DDR5 RAM',\n",
       "       '5 Cores (1P + 4E)', '5 Cores', '16\\u2009GB  RAM',\n",
       "       '4\\u2009GB \\u200eLPDDR4 RAM', '12 Cores (6P + 6E)', '20 Threads',\n",
       "       '12 Cores'], dtype=object)"
      ]
     },
     "execution_count": 17,
     "metadata": {},
     "output_type": "execute_result"
    }
   ],
   "source": [
    "core_mapping = {\n",
    "    'Single Core': 1,\n",
    "    'Dual Core': 2,\n",
    "    'Quad Core': 4,\n",
    "    'Hexa Core': 6,\n",
    "    'Octa Core': 8,\n",
    "    'Deca Core': 10,\n",
    "    'Hexa Core (2P + 4E)': 6,\n",
    "    'Octa Core (4P + 4E)':8,\n",
    "    '12 Cores (4P + 8E)': 12,\n",
    "    '10 Cores (2P + 8E)': 10,\n",
    "    '12 Cores (8P + 4E)': 12,\n",
    "    '14 Cores (6P + 8E)': 14,\n",
    "    '16 Cores (8P + 8E)': 16,\n",
    "    '24 Cores (8P + 16E)': 24\n",
    "}\n",
    "\n",
    "# Function to apply the mapping and add \"cores\"\n",
    "def map_core_count(core_count_str):\n",
    "    if core_count_str in core_mapping:\n",
    "        return f\"{core_mapping[core_count_str]} cores\"\n",
    "    return core_count_str\n",
    "\n",
    "df['Core_Count'] = df['Core_Count'].apply(map_core_count)\n",
    "df['Core_Count'].unique()"
   ]
  },
  {
   "cell_type": "code",
   "execution_count": 18,
   "id": "37419a14-5c24-4131-a144-4f59eabd547d",
   "metadata": {},
   "outputs": [
    {
     "data": {
      "text/plain": [
       "array([' 12 Threads', ' 4 Threads', ' 8 Threads', ' 16 Threads',\n",
       "       ' 32 Threads', None, ' 14 Threads', ' 22 Threads', ' 2 Threads',\n",
       "       ' 20 Threads', ' 18 Threads', ' 28 Threads', ' 24 Threads',\n",
       "       ' 6 Threads', ' 5 Threads'], dtype=object)"
      ]
     },
     "execution_count": 18,
     "metadata": {},
     "output_type": "execute_result"
    }
   ],
   "source": [
    "df['Core_Threads'].unique()"
   ]
  },
  {
   "cell_type": "code",
   "execution_count": 19,
   "id": "3758ec08-ffef-4c40-b8bf-50a27200e304",
   "metadata": {},
   "outputs": [
    {
     "data": {
      "text/plain": [
       "np.int64(0)"
      ]
     },
     "execution_count": 19,
     "metadata": {},
     "output_type": "execute_result"
    }
   ],
   "source": [
    "df['Core_Count'] = df['Core_Count'].str.extract(r'(\\d+)').astype(float)\n",
    "df['Core_Count'].value_counts()\n",
    "df['Core_Count'].isna().sum()"
   ]
  },
  {
   "cell_type": "code",
   "execution_count": 20,
   "id": "8b2f7647-5a73-4359-b703-e44245c49160",
   "metadata": {},
   "outputs": [
    {
     "name": "stderr",
     "output_type": "stream",
     "text": [
      "C:\\Users\\PC-NB\\AppData\\Local\\Temp\\ipykernel_9704\\2759047387.py:2: FutureWarning: A value is trying to be set on a copy of a DataFrame or Series through chained assignment using an inplace method.\n",
      "The behavior will change in pandas 3.0. This inplace method will never work because the intermediate object on which we are setting values always behaves as a copy.\n",
      "\n",
      "For example, when doing 'df[col].method(value, inplace=True)', try using 'df.method({col: value}, inplace=True)' or df[col] = df[col].method(value) instead, to perform the operation inplace on the original object.\n",
      "\n",
      "\n",
      "  df['Core_Threads'].fillna( df['Core_Threads'].mode()[0], inplace=True)\n"
     ]
    }
   ],
   "source": [
    "df['Core_Threads'] = df['Core_Threads'].str.extract(r'(\\d+)').astype(float)\n",
    "df['Core_Threads'].fillna( df['Core_Threads'].mode()[0], inplace=True)"
   ]
  },
  {
   "cell_type": "code",
   "execution_count": 21,
   "id": "c9097856-a6aa-4cde-8da9-021f13340465",
   "metadata": {},
   "outputs": [],
   "source": [
    "df['Gen_Num'] = df['Generation'].str.extract(r'(\\d+)[a-zA-Z]{2}\\s+Gen').astype(float)"
   ]
  },
  {
   "cell_type": "code",
   "execution_count": 22,
   "id": "d0311ec8-a0ef-4687-89b6-463c0b07d4ba",
   "metadata": {},
   "outputs": [],
   "source": [
    "df['Warranty'] = df['Warranty'].str.extract(r'(\\d+)').astype(float)"
   ]
  },
  {
   "cell_type": "code",
   "execution_count": 23,
   "id": "b921ad9f-8ef3-48da-88fc-eb0277ce65df",
   "metadata": {},
   "outputs": [
    {
     "data": {
      "text/plain": [
       "array(['Windows 11 OS', 'Mac OS', 'Windows 10 OS', 'DOS OS',\n",
       "       'Windows 11 Pro OS', '2 Year Warranty', 'Backlit Keyboard',\n",
       "       '15.6\\u2009inches, 1920\\u2009x\\u20091080\\u2009pixels',\n",
       "       'Intel Iris Xe Graphics', '1 Year Warranty', 'Ubuntu OS',\n",
       "       'Windows 11  OS', 'Chrome OS', 'Windows OS', 'DOS 3.0 OS',\n",
       "       'Windows 10  OS'], dtype=object)"
      ]
     },
     "execution_count": 23,
     "metadata": {},
     "output_type": "execute_result"
    }
   ],
   "source": [
    "df['OS'].unique()"
   ]
  },
  {
   "cell_type": "code",
   "execution_count": 24,
   "id": "3c5f8946-76b7-4245-9b2e-4416d434ba7a",
   "metadata": {},
   "outputs": [],
   "source": [
    "df['OS'] = df['OS'].str.extract(r'(Windows 11|Windows 10|Ubuntu|DOS)', expand=False)"
   ]
  },
  {
   "cell_type": "code",
   "execution_count": 25,
   "id": "6992b060-085b-452b-8d9f-b55b0bde2809",
   "metadata": {},
   "outputs": [
    {
     "data": {
      "text/plain": [
       "array(['5th Gen AMD Ryzen 5 5600H', '11th Gen Intel Core i3 1115G4',\n",
       "       '7th Gen AMD Ryzen 3 7320U', '12th Gen Intel Core i5 1240P',\n",
       "       '14th Gen Intel Core i9 14900HX', '12th Gen Intel Core i3 1215U',\n",
       "       'Apple M1', '12th Gen Intel Core i5 1235U',\n",
       "       '7th Gen Amd Ryzen 5 7535HS', '11th Gen Intel Core i5 1135G7',\n",
       "       '12th Gen Intel Core i5 12500H', '7th Gen AMD Ryzen 7 7840HS',\n",
       "       'Apple M3', '5th Gen AMD Ryzen 3 5300U', 'Apple M2',\n",
       "       'Intel Core 5 Processor Series 1 120U',\n",
       "       '11th Gen Intel Core i5 11400H ', '5th Gen AMD Ryzen 7 5800U',\n",
       "       '13th Gen Intel Core i7 1355U', 'Intel Core 3 Processor 100U',\n",
       "       'Intel Core Ultra 7 155U', 'Intel Core Ultra 7 Series 1 155H',\n",
       "       'Intel Core Ultra 5 125U', '12th Gen Intel Core i5 12450H',\n",
       "       'Intel Core 7 Processor Series 1 150U',\n",
       "       '13th Gen Intel Core i5 13450HX',\n",
       "       '6th Gen AMD Ryzen 9 6900HS\\u200b', '7th Gen AMD Ryzen 3 7330U',\n",
       "       '11th Gen Intel Core i7 11800H', '13th Gen Intel Core i5 13420H',\n",
       "       '12th Gen Intel Core i7 12650H', '3rd Gen AMD Athlon 3050U',\n",
       "       '12th Gen Intel Core i7 12700H', '6th Gen AMD Ryzen 7  6800H',\n",
       "       '7th Gen AMD Ryzen 7 7730U', 'Intel Core Ultra 5 Series 1 125H',\n",
       "       '8th Gen AMD Ryzen 7 8840HS', '14th Gen Intel Core i7 14700HX',\n",
       "       'Intel Core Ultra 7 155H', 'Apple M3 Max',\n",
       "       '12th Gen Intel Core i3 1220P', '13th Gen Intel Core i7 1360P',\n",
       "       '13th Gen Intel Core i7 13650HX', '11th Gen Intel Core i5 1155G7',\n",
       "       '12th Gen Intel Core i7 1255U', '11th Gen Intel Core i5 11260H',\n",
       "       'intel Celeron  N4020', '11th Gen Intel Celeron N5100',\n",
       "       '7th Gen AMD Ryzen 5 7535HS', '5th Gen AMD Ryzen 5 5500U',\n",
       "       '13th Gen Intel Core i9 13900H', '7th Gen AMD Ryzen 7 7735HS',\n",
       "       '13th Gen Intel Core i7 13700HX', '3rd Gen AMD Ryzen 3 3250U',\n",
       "       '7th Gen AMD Ryzen 5 7530U', '12th Gen Intel Core i5 1235U ',\n",
       "       '5th Gen AMD Ryzen 7  5800H', '5th Gen AMD Ryzen 5 5600H ',\n",
       "       'Processor: 12th Generation Intel Core i5-1235U processor (1.3 GHz up to 4.4 GHz 12 MB L3…',\n",
       "       'Intel Atom Quad Core Z3735F', 'Qualcomm X Elite',\n",
       "       '8th Gen AMD Ryzen 7 8845HS', '11th Gen Intel Core i7 1165G7',\n",
       "       'Intel Pentium Gold 7505', '13th Gen Intel Core i5 1334U',\n",
       "       '13th Gen Intel Core i5 1335U', '13th Gen Intel Core i3 1315U',\n",
       "       '7th Gen AMD Ryzen 5 7520U', 'Intel Core i9 14900HX',\n",
       "       '6th Gen AMD Ryzen 7 6800H', '13th Gen Intel Core i5 13500H',\n",
       "       'Apple M3 Pro', 'AMD Athlon Silver 7120U',\n",
       "       '7th Gen AMD Ryzen 5 7520U ', '11th Gen Intel Core i3 1125G4',\n",
       "       '12th Gen Intel Core i7 12700H ', '11th Gen intel Core i3 1115G4',\n",
       "       '13th Gen Intel Core i7', '12th Gen Intel Core i5 12500H ',\n",
       "       'Intel Celeron  N4020', '13th Gen Intel Core i5 1340P',\n",
       "       '11th Gen Intel Core i3  1115G4', '5th Gen AMD Ryzen 7 5800H',\n",
       "       '5th Gen AMD Ryzen 5  5600H ', '12th Gen Intel Core i9 12900HX',\n",
       "       '6th Gen AMD Ryzen 7 6800H ', '10th Gen Intel Core i7 10750H',\n",
       "       '4th Gen Intel Celeron N4020', '7th Gen AMD Ryzen 7 7840U',\n",
       "       '8th Gen AMD Ryzen 5 8640HS', '13th Gen Intel Core i7 13700H',\n",
       "       'Intel Core Ultra 9 Series 1 185H', 'Intel \\u200eCeleron N4020',\n",
       "       '12th Gen Intel Celeron N100', '13th Gen Intel Core i7 13620H',\n",
       "       '11th Gen Intel Core i5 11400H', '5th Gen AMD Ryzen 7 5700U',\n",
       "       '13th Gen Intel Core i3 1305U', '10th Gen Intel Core i5 10210Y',\n",
       "       'Intel Pentium N100', 'MediaTek Kompanio 520 Kompanio 520',\n",
       "       'MediaTek Kompanio Kompanio 520', '12th Gen intel Core i5 12450HX',\n",
       "       '12th Gen Intel N100 N100', '10th Gen Intel Core i5 1035G1',\n",
       "       'Intel Celeron N4020', '11th Gen Intel Core i5 L16G7',\n",
       "       '13th Gen Intel Core i9 13900HX', '12th Gen intel Core i5 12450H',\n",
       "       '11th Gen Intel Core i5 1135G7 ', '5th Gen AMD Ryzen 5  5500U',\n",
       "       '8th Gen Amd Ryzen 7 8845HS', 'HiSilicon  Kirin 9006C 9006C',\n",
       "       '5th Gen AMD Ryzen 7  5700U', 'Octa Core',\n",
       "       '13th Gen Intel Core i9 13980HX', 'Intel Core i3 N305',\n",
       "       '12th Gen Intel Core i7 1260P', '5th Gen AMD Ryzen 5 5500H',\n",
       "       '11th Gen Intel Core i5 11320H', '5th Gen AMD Ryzen 7 5800HS',\n",
       "       '7th Gen AMD Ryzen 7  7730U', 'Intel Celeron  N4500',\n",
       "       '12th Gen Intel Core i5 12450H ', 'Intel Celeron N4500',\n",
       "       'Intel   N4500', 'MediaTek MT8183', '7th Gen Amd Ryzen 7 7840H',\n",
       "       '7th Gen AMD Ryzen 7 7745HX', '13th Gen Intel Core i9 13950HX',\n",
       "       '6th Gen AMD Ryzen 7 6800HS ', '6th Gen AMD Ryzen 5 6600H',\n",
       "       'Intel Celeron Dual Core N4500', '5th Gen AMD Ryzen 5  5600H',\n",
       "       '4th Gen AMD Ryzen 7 PRO 4750U', '5th Gen AMD Ryzen 5  5500H',\n",
       "       'AMD Athlon 7120U', '10th Gen Intel Core i3 1005G1',\n",
       "       '13th Gen Intel Core i7 1355U ', '12th Gen Intel Core i7 1250U',\n",
       "       '7th Gen AMD Ryzen 7 7735U', '5th Gen AMD Ryzen 5 5600HS',\n",
       "       '3rd Gen AMD Ryzen 3  3250U', '10th Gen Intel Core i5 1035G4',\n",
       "       '7th Gen Amd Ryzen 5 7520U', '13th Gen Intel Core i7 1365U',\n",
       "       '10th Gen Intel Core i5 10210U', '11th Gen Intel Core i7 1195G7',\n",
       "       ' Mediatek  MT8788', '5th Gen AMD Ryzen 7 5825U',\n",
       "       '13th Gen Intel Core i9 13900HK', '7th Gen Amd Ryzen 7 7745HX',\n",
       "       '7th Gen Amd Ryzen 9 7845HX', '12th Gen Intel Core i7 12650H ',\n",
       "       '12th Gen Intel Core i9 12900H', 'Intel Pentium Silver   N6000 ',\n",
       "       'Intel Celeron  N4020 ', '6th Gen AMD Ryzen 7  7735HS',\n",
       "       '11th Gen Intel Core i7 1165G7 ',\n",
       "       '13th Gen \\u200eIntel Core i5 1335U',\n",
       "       '5th Gen AMD Ryzen 7   5700U', '7th Gen AMD Ryzen 9 7940HS',\n",
       "       '10th Gen Intel Core i7 10750H ', '7th Gen Amd Ryzen 5 7530U',\n",
       "       '7th Gen Amd Ryzen 9 7940HS', '7th Gen AMD Ryzen 7  7735HS',\n",
       "       '13th Gen Intel Core i5 1340p', '13th Gen Intel Core i5 13500H ',\n",
       "       '5th Gen AMD Ryzen 5  5500u', '12th Gen Intel Core i3 1215U ',\n",
       "       '13th Gen Intel Core i7 13700HX ', 'Intel Pentium Silver N6000',\n",
       "       '7th Gen AMD Ryzen 7040 Series 040',\n",
       "       '13th Gen Intel Core i9 13900HX ',\n",
       "       '13th Gen \\u200eIntel Core i3 1315U',\n",
       "       '12th Gen Intel Core i5 1230U'], dtype=object)"
      ]
     },
     "execution_count": 25,
     "metadata": {},
     "output_type": "execute_result"
    }
   ],
   "source": [
    "df['Generation'].unique()"
   ]
  },
  {
   "cell_type": "code",
   "execution_count": 26,
   "id": "3f18bc2f-4181-4267-b43d-1d4660fb51c2",
   "metadata": {},
   "outputs": [],
   "source": [
    "df['Processor'] = df['Generation'].str.extract(r'(Intel|intel|AMD|Amd|Octa|MediaTek|Kirin|Qualcomm|Apple)', expand=False)"
   ]
  },
  {
   "cell_type": "code",
   "execution_count": 27,
   "id": "05fc1032-05fc-4882-adc3-d6d0965fb364",
   "metadata": {},
   "outputs": [
    {
     "data": {
      "text/plain": [
       "Unnamed: 0             0\n",
       "Model                  0\n",
       "Price                  0\n",
       "Rating                 0\n",
       "Generation             0\n",
       "Core                   0\n",
       "Ram                    0\n",
       "SSD                    0\n",
       "Display                0\n",
       "Graphics               0\n",
       "OS                    47\n",
       "Warranty               9\n",
       "Brand                  0\n",
       "Ram_GB                 0\n",
       "SSD_GB                 0\n",
       "Display_size_inch      1\n",
       "GPU_Memory_GB          0\n",
       "Core_Count             0\n",
       "Core_Threads           0\n",
       "Gen_Num              112\n",
       "Processor              1\n",
       "dtype: int64"
      ]
     },
     "execution_count": 27,
     "metadata": {},
     "output_type": "execute_result"
    }
   ],
   "source": [
    "df.isna().sum()"
   ]
  },
  {
   "cell_type": "code",
   "execution_count": 28,
   "id": "f7f4959c-444a-49ed-819f-800a4e3927b9",
   "metadata": {},
   "outputs": [
    {
     "name": "stderr",
     "output_type": "stream",
     "text": [
      "C:\\Users\\PC-NB\\AppData\\Local\\Temp\\ipykernel_9704\\1511259053.py:1: FutureWarning: A value is trying to be set on a copy of a DataFrame or Series through chained assignment using an inplace method.\n",
      "The behavior will change in pandas 3.0. This inplace method will never work because the intermediate object on which we are setting values always behaves as a copy.\n",
      "\n",
      "For example, when doing 'df[col].method(value, inplace=True)', try using 'df.method({col: value}, inplace=True)' or df[col] = df[col].method(value) instead, to perform the operation inplace on the original object.\n",
      "\n",
      "\n",
      "  df['Processor'].fillna(df['Processor'].mode()[0], inplace=True)\n"
     ]
    }
   ],
   "source": [
    "df['Processor'].fillna(df['Processor'].mode()[0], inplace=True)"
   ]
  },
  {
   "cell_type": "code",
   "execution_count": 29,
   "id": "c51d87e4-bd3f-44e7-a435-e4d4a00b1d64",
   "metadata": {},
   "outputs": [
    {
     "data": {
      "text/plain": [
       "Unnamed: 0             0\n",
       "Model                  0\n",
       "Price                  0\n",
       "Rating                 0\n",
       "Generation             0\n",
       "Core                   0\n",
       "Ram                    0\n",
       "SSD                    0\n",
       "Display                0\n",
       "Graphics               0\n",
       "OS                    47\n",
       "Warranty               9\n",
       "Brand                  0\n",
       "Ram_GB                 0\n",
       "SSD_GB                 0\n",
       "Display_size_inch      1\n",
       "GPU_Memory_GB          0\n",
       "Core_Count             0\n",
       "Core_Threads           0\n",
       "Gen_Num              112\n",
       "Processor              0\n",
       "dtype: int64"
      ]
     },
     "execution_count": 29,
     "metadata": {},
     "output_type": "execute_result"
    }
   ],
   "source": [
    "df.isna().sum()"
   ]
  },
  {
   "cell_type": "code",
   "execution_count": 30,
   "id": "45fdacde-5129-4da1-a100-3d2e498f9851",
   "metadata": {},
   "outputs": [
    {
     "data": {
      "text/html": [
       "<div>\n",
       "<style scoped>\n",
       "    .dataframe tbody tr th:only-of-type {\n",
       "        vertical-align: middle;\n",
       "    }\n",
       "\n",
       "    .dataframe tbody tr th {\n",
       "        vertical-align: top;\n",
       "    }\n",
       "\n",
       "    .dataframe thead th {\n",
       "        text-align: right;\n",
       "    }\n",
       "</style>\n",
       "<table border=\"1\" class=\"dataframe\">\n",
       "  <thead>\n",
       "    <tr style=\"text-align: right;\">\n",
       "      <th></th>\n",
       "      <th>Unnamed: 0</th>\n",
       "      <th>Model</th>\n",
       "      <th>Price</th>\n",
       "      <th>Rating</th>\n",
       "      <th>Generation</th>\n",
       "      <th>Core</th>\n",
       "      <th>Ram</th>\n",
       "      <th>SSD</th>\n",
       "      <th>Display</th>\n",
       "      <th>Graphics</th>\n",
       "      <th>OS</th>\n",
       "      <th>Warranty</th>\n",
       "      <th>Brand</th>\n",
       "      <th>Ram_GB</th>\n",
       "      <th>SSD_GB</th>\n",
       "      <th>Display_size_inch</th>\n",
       "      <th>GPU_Memory_GB</th>\n",
       "      <th>Core_Count</th>\n",
       "      <th>Core_Threads</th>\n",
       "      <th>Processor</th>\n",
       "    </tr>\n",
       "  </thead>\n",
       "  <tbody>\n",
       "    <tr>\n",
       "      <th>0</th>\n",
       "      <td>0</td>\n",
       "      <td>HP Victus 15-fb0157AX Gaming Laptop (AMD Ryzen...</td>\n",
       "      <td>50399</td>\n",
       "      <td>70.00000</td>\n",
       "      <td>5th Gen AMD Ryzen 5 5600H</td>\n",
       "      <td>Hexa Core, 12 Threads</td>\n",
       "      <td>8 GB DDR4 RAM</td>\n",
       "      <td>512 GB SSD</td>\n",
       "      <td>15.6 inches, 1920 x 1080 pixels, Touch Screen</td>\n",
       "      <td>4 GB AMD Radeon RX 6500M</td>\n",
       "      <td>Windows 11</td>\n",
       "      <td>1.0</td>\n",
       "      <td>HP</td>\n",
       "      <td>8</td>\n",
       "      <td>512</td>\n",
       "      <td>15.6</td>\n",
       "      <td>4</td>\n",
       "      <td>6.0</td>\n",
       "      <td>12.0</td>\n",
       "      <td>AMD</td>\n",
       "    </tr>\n",
       "    <tr>\n",
       "      <th>1</th>\n",
       "      <td>1</td>\n",
       "      <td>Tecno Megabook T1 Laptop (11th Gen Core i3/ 8G...</td>\n",
       "      <td>23990</td>\n",
       "      <td>56.00000</td>\n",
       "      <td>11th Gen Intel Core i3 1115G4</td>\n",
       "      <td>Dual Core, 4 Threads</td>\n",
       "      <td>8 GB LPDDR4 RAM</td>\n",
       "      <td>512 GB SSD</td>\n",
       "      <td>15.6 inches, 1920 x 1080 pixels</td>\n",
       "      <td>Intel UHD Graphics</td>\n",
       "      <td>Windows 11</td>\n",
       "      <td>1.0</td>\n",
       "      <td>Tecno</td>\n",
       "      <td>8</td>\n",
       "      <td>512</td>\n",
       "      <td>15.6</td>\n",
       "      <td>0</td>\n",
       "      <td>2.0</td>\n",
       "      <td>4.0</td>\n",
       "      <td>Intel</td>\n",
       "    </tr>\n",
       "    <tr>\n",
       "      <th>2</th>\n",
       "      <td>2</td>\n",
       "      <td>Lenovo V15 G4 ‎82YU00W7IN Laptop (AMD Ryzen 3 ...</td>\n",
       "      <td>26989</td>\n",
       "      <td>55.00000</td>\n",
       "      <td>7th Gen AMD Ryzen 3 7320U</td>\n",
       "      <td>Quad Core, 8 Threads</td>\n",
       "      <td>8 GB LPDDR5 RAM</td>\n",
       "      <td>512 GB SSD</td>\n",
       "      <td>15.6 inches, 1920 x 1080 pixels</td>\n",
       "      <td>AMD Radeon Graphics</td>\n",
       "      <td>Windows 11</td>\n",
       "      <td>1.0</td>\n",
       "      <td>Lenovo</td>\n",
       "      <td>8</td>\n",
       "      <td>512</td>\n",
       "      <td>15.6</td>\n",
       "      <td>0</td>\n",
       "      <td>4.0</td>\n",
       "      <td>8.0</td>\n",
       "      <td>AMD</td>\n",
       "    </tr>\n",
       "    <tr>\n",
       "      <th>3</th>\n",
       "      <td>3</td>\n",
       "      <td>Samsung Galaxy Book2 Pro 13 Laptop (12th Gen C...</td>\n",
       "      <td>69990</td>\n",
       "      <td>60.00000</td>\n",
       "      <td>12th Gen Intel Core i5 1240P</td>\n",
       "      <td>12 Cores (4P + 8E), 16 Threads</td>\n",
       "      <td>16 GB LPDDR5 RAM</td>\n",
       "      <td>512 GB SSD</td>\n",
       "      <td>13.3 inches, 1080 x 1920 pixels</td>\n",
       "      <td>Intel Iris Xe Graphics</td>\n",
       "      <td>Windows 11</td>\n",
       "      <td>1.0</td>\n",
       "      <td>Samsung</td>\n",
       "      <td>16</td>\n",
       "      <td>512</td>\n",
       "      <td>13.3</td>\n",
       "      <td>0</td>\n",
       "      <td>12.0</td>\n",
       "      <td>16.0</td>\n",
       "      <td>Intel</td>\n",
       "    </tr>\n",
       "    <tr>\n",
       "      <th>4</th>\n",
       "      <td>4</td>\n",
       "      <td>Xiaomi Redmi G Pro 2024 Gaming Laptop (14th Ge...</td>\n",
       "      <td>102990</td>\n",
       "      <td>78.00000</td>\n",
       "      <td>14th Gen Intel Core i9 14900HX</td>\n",
       "      <td>24 Cores (8P + 16E), 32 Threads</td>\n",
       "      <td>16 GB DDR5 RAM</td>\n",
       "      <td>1 TB SSD</td>\n",
       "      <td>16.1 inches, 2560 x 1600 pixels</td>\n",
       "      <td>8 GB NVIDIA GeForce RTX 4060</td>\n",
       "      <td>Windows 11</td>\n",
       "      <td>1.0</td>\n",
       "      <td>Xiaomi</td>\n",
       "      <td>16</td>\n",
       "      <td>1024</td>\n",
       "      <td>16.1</td>\n",
       "      <td>8</td>\n",
       "      <td>24.0</td>\n",
       "      <td>32.0</td>\n",
       "      <td>Intel</td>\n",
       "    </tr>\n",
       "    <tr>\n",
       "      <th>...</th>\n",
       "      <td>...</td>\n",
       "      <td>...</td>\n",
       "      <td>...</td>\n",
       "      <td>...</td>\n",
       "      <td>...</td>\n",
       "      <td>...</td>\n",
       "      <td>...</td>\n",
       "      <td>...</td>\n",
       "      <td>...</td>\n",
       "      <td>...</td>\n",
       "      <td>...</td>\n",
       "      <td>...</td>\n",
       "      <td>...</td>\n",
       "      <td>...</td>\n",
       "      <td>...</td>\n",
       "      <td>...</td>\n",
       "      <td>...</td>\n",
       "      <td>...</td>\n",
       "      <td>...</td>\n",
       "      <td>...</td>\n",
       "    </tr>\n",
       "    <tr>\n",
       "      <th>915</th>\n",
       "      <td>915</td>\n",
       "      <td>Asus Vivobook 16X 2023 K3605ZF-MB541WS Laptop ...</td>\n",
       "      <td>64990</td>\n",
       "      <td>68.00000</td>\n",
       "      <td>12th Gen Intel Core i5 12450H</td>\n",
       "      <td>Octa Core (4P + 4E), 12 Threads</td>\n",
       "      <td>16 GB DDR4 RAM</td>\n",
       "      <td>512 GB SSD</td>\n",
       "      <td>16 inches, 1920 x 1200 pixels</td>\n",
       "      <td>4 GB NVIDIA GeForce RTX 2050</td>\n",
       "      <td>Windows 11</td>\n",
       "      <td>1.0</td>\n",
       "      <td>Asus</td>\n",
       "      <td>16</td>\n",
       "      <td>512</td>\n",
       "      <td>16.0</td>\n",
       "      <td>4</td>\n",
       "      <td>8.0</td>\n",
       "      <td>12.0</td>\n",
       "      <td>Intel</td>\n",
       "    </tr>\n",
       "    <tr>\n",
       "      <th>916</th>\n",
       "      <td>916</td>\n",
       "      <td>Asus TUF Gaming A15 2023 FA577XV-HQ036WS Gamin...</td>\n",
       "      <td>154990</td>\n",
       "      <td>61.75651</td>\n",
       "      <td>7th Gen AMD Ryzen 9 7940HS</td>\n",
       "      <td>Octa Core, 16 Threads</td>\n",
       "      <td>16 GB DDR5 RAM</td>\n",
       "      <td>1 TB SSD</td>\n",
       "      <td>15.6 inches, 2560 x 1440 pixels</td>\n",
       "      <td>8 GB NVIDIA GeForce RTX 4060</td>\n",
       "      <td>Windows 11</td>\n",
       "      <td>1.0</td>\n",
       "      <td>Asus</td>\n",
       "      <td>16</td>\n",
       "      <td>1024</td>\n",
       "      <td>15.6</td>\n",
       "      <td>8</td>\n",
       "      <td>8.0</td>\n",
       "      <td>16.0</td>\n",
       "      <td>AMD</td>\n",
       "    </tr>\n",
       "    <tr>\n",
       "      <th>917</th>\n",
       "      <td>917</td>\n",
       "      <td>Acer Aspire 5 A514-56GM Gaming Laptop (13th Ge...</td>\n",
       "      <td>69990</td>\n",
       "      <td>62.00000</td>\n",
       "      <td>13th Gen Intel Core i7 1355U</td>\n",
       "      <td>10 Cores (2P + 8E), 12 Threads</td>\n",
       "      <td>8 GB DDR4 RAM</td>\n",
       "      <td>512 GB SSD</td>\n",
       "      <td>14 inches, 1920 x 1080 pixels</td>\n",
       "      <td>4 GB NVIDIA GeForce RTX 2050</td>\n",
       "      <td>Windows 11</td>\n",
       "      <td>1.0</td>\n",
       "      <td>Acer</td>\n",
       "      <td>8</td>\n",
       "      <td>512</td>\n",
       "      <td>14.0</td>\n",
       "      <td>4</td>\n",
       "      <td>10.0</td>\n",
       "      <td>12.0</td>\n",
       "      <td>Intel</td>\n",
       "    </tr>\n",
       "    <tr>\n",
       "      <th>918</th>\n",
       "      <td>918</td>\n",
       "      <td>Lenovo IdeaPad Slim 5 82FG01B3IN Laptop (11th ...</td>\n",
       "      <td>54900</td>\n",
       "      <td>63.00000</td>\n",
       "      <td>11th Gen Intel Core i5 1135G7</td>\n",
       "      <td>Quad Core, 8 Threads</td>\n",
       "      <td>16 GB DDR4 RAM</td>\n",
       "      <td>512 GB SSD</td>\n",
       "      <td>15.6 inches, 1920 x 1080 pixels</td>\n",
       "      <td>Intel Iris Xe Graphics</td>\n",
       "      <td>Windows 11</td>\n",
       "      <td>1.0</td>\n",
       "      <td>Lenovo</td>\n",
       "      <td>16</td>\n",
       "      <td>512</td>\n",
       "      <td>15.6</td>\n",
       "      <td>0</td>\n",
       "      <td>4.0</td>\n",
       "      <td>8.0</td>\n",
       "      <td>Intel</td>\n",
       "    </tr>\n",
       "    <tr>\n",
       "      <th>919</th>\n",
       "      <td>919</td>\n",
       "      <td>MSI Bravo 15 B5ED-034IN Gaming Laptop (AMD Ryz...</td>\n",
       "      <td>59990</td>\n",
       "      <td>66.00000</td>\n",
       "      <td>5th Gen AMD Ryzen 7 5800H</td>\n",
       "      <td>Octa Core, 16 Threads</td>\n",
       "      <td>8 GB DDR4 RAM</td>\n",
       "      <td>512 GB SSD</td>\n",
       "      <td>15.6 inches, 1920 x 1080 pixels</td>\n",
       "      <td>4 GB AMD Radeon RX6500M</td>\n",
       "      <td>Windows 11</td>\n",
       "      <td>1.0</td>\n",
       "      <td>MSI</td>\n",
       "      <td>8</td>\n",
       "      <td>512</td>\n",
       "      <td>15.6</td>\n",
       "      <td>4</td>\n",
       "      <td>8.0</td>\n",
       "      <td>16.0</td>\n",
       "      <td>AMD</td>\n",
       "    </tr>\n",
       "  </tbody>\n",
       "</table>\n",
       "<p>920 rows × 20 columns</p>\n",
       "</div>"
      ],
      "text/plain": [
       "     Unnamed: 0                                              Model   Price  \\\n",
       "0             0  HP Victus 15-fb0157AX Gaming Laptop (AMD Ryzen...   50399   \n",
       "1             1  Tecno Megabook T1 Laptop (11th Gen Core i3/ 8G...   23990   \n",
       "2             2  Lenovo V15 G4 ‎82YU00W7IN Laptop (AMD Ryzen 3 ...   26989   \n",
       "3             3  Samsung Galaxy Book2 Pro 13 Laptop (12th Gen C...   69990   \n",
       "4             4  Xiaomi Redmi G Pro 2024 Gaming Laptop (14th Ge...  102990   \n",
       "..          ...                                                ...     ...   \n",
       "915         915  Asus Vivobook 16X 2023 K3605ZF-MB541WS Laptop ...   64990   \n",
       "916         916  Asus TUF Gaming A15 2023 FA577XV-HQ036WS Gamin...  154990   \n",
       "917         917  Acer Aspire 5 A514-56GM Gaming Laptop (13th Ge...   69990   \n",
       "918         918  Lenovo IdeaPad Slim 5 82FG01B3IN Laptop (11th ...   54900   \n",
       "919         919  MSI Bravo 15 B5ED-034IN Gaming Laptop (AMD Ryz...   59990   \n",
       "\n",
       "       Rating                      Generation  \\\n",
       "0    70.00000       5th Gen AMD Ryzen 5 5600H   \n",
       "1    56.00000   11th Gen Intel Core i3 1115G4   \n",
       "2    55.00000       7th Gen AMD Ryzen 3 7320U   \n",
       "3    60.00000    12th Gen Intel Core i5 1240P   \n",
       "4    78.00000  14th Gen Intel Core i9 14900HX   \n",
       "..        ...                             ...   \n",
       "915  68.00000   12th Gen Intel Core i5 12450H   \n",
       "916  61.75651      7th Gen AMD Ryzen 9 7940HS   \n",
       "917  62.00000    13th Gen Intel Core i7 1355U   \n",
       "918  63.00000   11th Gen Intel Core i5 1135G7   \n",
       "919  66.00000       5th Gen AMD Ryzen 7 5800H   \n",
       "\n",
       "                                Core               Ram         SSD  \\\n",
       "0              Hexa Core, 12 Threads     8 GB DDR4 RAM  512 GB SSD   \n",
       "1               Dual Core, 4 Threads   8 GB LPDDR4 RAM  512 GB SSD   \n",
       "2               Quad Core, 8 Threads   8 GB LPDDR5 RAM  512 GB SSD   \n",
       "3     12 Cores (4P + 8E), 16 Threads  16 GB LPDDR5 RAM  512 GB SSD   \n",
       "4    24 Cores (8P + 16E), 32 Threads    16 GB DDR5 RAM    1 TB SSD   \n",
       "..                               ...               ...         ...   \n",
       "915  Octa Core (4P + 4E), 12 Threads    16 GB DDR4 RAM  512 GB SSD   \n",
       "916            Octa Core, 16 Threads    16 GB DDR5 RAM    1 TB SSD   \n",
       "917   10 Cores (2P + 8E), 12 Threads     8 GB DDR4 RAM  512 GB SSD   \n",
       "918             Quad Core, 8 Threads    16 GB DDR4 RAM  512 GB SSD   \n",
       "919            Octa Core, 16 Threads     8 GB DDR4 RAM  512 GB SSD   \n",
       "\n",
       "                                           Display  \\\n",
       "0    15.6 inches, 1920 x 1080 pixels, Touch Screen   \n",
       "1                  15.6 inches, 1920 x 1080 pixels   \n",
       "2                  15.6 inches, 1920 x 1080 pixels   \n",
       "3                  13.3 inches, 1080 x 1920 pixels   \n",
       "4                  16.1 inches, 2560 x 1600 pixels   \n",
       "..                                             ...   \n",
       "915                  16 inches, 1920 x 1200 pixels   \n",
       "916                15.6 inches, 2560 x 1440 pixels   \n",
       "917                  14 inches, 1920 x 1080 pixels   \n",
       "918                15.6 inches, 1920 x 1080 pixels   \n",
       "919                15.6 inches, 1920 x 1080 pixels   \n",
       "\n",
       "                          Graphics          OS  Warranty    Brand  Ram_GB  \\\n",
       "0         4 GB AMD Radeon RX 6500M  Windows 11       1.0       HP       8   \n",
       "1               Intel UHD Graphics  Windows 11       1.0    Tecno       8   \n",
       "2              AMD Radeon Graphics  Windows 11       1.0   Lenovo       8   \n",
       "3           Intel Iris Xe Graphics  Windows 11       1.0  Samsung      16   \n",
       "4     8 GB NVIDIA GeForce RTX 4060  Windows 11       1.0   Xiaomi      16   \n",
       "..                             ...         ...       ...      ...     ...   \n",
       "915   4 GB NVIDIA GeForce RTX 2050  Windows 11       1.0     Asus      16   \n",
       "916  8 GB NVIDIA GeForce RTX 4060   Windows 11       1.0     Asus      16   \n",
       "917   4 GB NVIDIA GeForce RTX 2050  Windows 11       1.0     Acer       8   \n",
       "918         Intel Iris Xe Graphics  Windows 11       1.0   Lenovo      16   \n",
       "919        4 GB AMD Radeon RX6500M  Windows 11       1.0      MSI       8   \n",
       "\n",
       "     SSD_GB  Display_size_inch  GPU_Memory_GB  Core_Count  Core_Threads  \\\n",
       "0       512               15.6              4         6.0          12.0   \n",
       "1       512               15.6              0         2.0           4.0   \n",
       "2       512               15.6              0         4.0           8.0   \n",
       "3       512               13.3              0        12.0          16.0   \n",
       "4      1024               16.1              8        24.0          32.0   \n",
       "..      ...                ...            ...         ...           ...   \n",
       "915     512               16.0              4         8.0          12.0   \n",
       "916    1024               15.6              8         8.0          16.0   \n",
       "917     512               14.0              4        10.0          12.0   \n",
       "918     512               15.6              0         4.0           8.0   \n",
       "919     512               15.6              4         8.0          16.0   \n",
       "\n",
       "    Processor  \n",
       "0         AMD  \n",
       "1       Intel  \n",
       "2         AMD  \n",
       "3       Intel  \n",
       "4       Intel  \n",
       "..        ...  \n",
       "915     Intel  \n",
       "916       AMD  \n",
       "917     Intel  \n",
       "918     Intel  \n",
       "919       AMD  \n",
       "\n",
       "[920 rows x 20 columns]"
      ]
     },
     "execution_count": 30,
     "metadata": {},
     "output_type": "execute_result"
    }
   ],
   "source": [
    "df.drop(columns=['Gen_Num'])"
   ]
  },
  {
   "cell_type": "code",
   "execution_count": 31,
   "id": "35760938-6ec6-4787-bc9d-b5a73755391f",
   "metadata": {},
   "outputs": [
    {
     "name": "stderr",
     "output_type": "stream",
     "text": [
      "C:\\Users\\PC-NB\\AppData\\Local\\Temp\\ipykernel_9704\\152498313.py:1: FutureWarning: A value is trying to be set on a copy of a DataFrame or Series through chained assignment using an inplace method.\n",
      "The behavior will change in pandas 3.0. This inplace method will never work because the intermediate object on which we are setting values always behaves as a copy.\n",
      "\n",
      "For example, when doing 'df[col].method(value, inplace=True)', try using 'df.method({col: value}, inplace=True)' or df[col] = df[col].method(value) instead, to perform the operation inplace on the original object.\n",
      "\n",
      "\n",
      "  df['OS'].fillna(df['OS'].mode()[0], inplace=True)\n"
     ]
    }
   ],
   "source": [
    "df['OS'].fillna(df['OS'].mode()[0], inplace=True)"
   ]
  },
  {
   "cell_type": "code",
   "execution_count": 32,
   "id": "1b243243-2f77-4829-963e-be746e70eceb",
   "metadata": {},
   "outputs": [
    {
     "name": "stderr",
     "output_type": "stream",
     "text": [
      "C:\\Users\\PC-NB\\AppData\\Local\\Temp\\ipykernel_9704\\2869759564.py:1: FutureWarning: A value is trying to be set on a copy of a DataFrame or Series through chained assignment using an inplace method.\n",
      "The behavior will change in pandas 3.0. This inplace method will never work because the intermediate object on which we are setting values always behaves as a copy.\n",
      "\n",
      "For example, when doing 'df[col].method(value, inplace=True)', try using 'df.method({col: value}, inplace=True)' or df[col] = df[col].method(value) instead, to perform the operation inplace on the original object.\n",
      "\n",
      "\n",
      "  df['Display_size_inch'].fillna(df['Display_size_inch'].mode()[0], inplace=True)\n"
     ]
    }
   ],
   "source": [
    "df['Display_size_inch'].fillna(df['Display_size_inch'].mode()[0], inplace=True)"
   ]
  },
  {
   "cell_type": "code",
   "execution_count": 33,
   "id": "25cc32c2-66bb-40db-83cb-3e14e11d62df",
   "metadata": {},
   "outputs": [],
   "source": [
    "df.drop(columns=[\n",
    "    'Unnamed: 0', 'Model',  'Generation', \n",
    "    'Core', 'Ram', 'SSD', 'Display', 'Graphics','Gen_Num'\n",
    "], inplace=True)"
   ]
  },
  {
   "cell_type": "code",
   "execution_count": 34,
   "id": "70f012a6-5481-4cf2-af25-9b41b86a22c8",
   "metadata": {},
   "outputs": [
    {
     "data": {
      "text/plain": [
       "Price                0\n",
       "Rating               0\n",
       "OS                   0\n",
       "Warranty             9\n",
       "Brand                0\n",
       "Ram_GB               0\n",
       "SSD_GB               0\n",
       "Display_size_inch    0\n",
       "GPU_Memory_GB        0\n",
       "Core_Count           0\n",
       "Core_Threads         0\n",
       "Processor            0\n",
       "dtype: int64"
      ]
     },
     "execution_count": 34,
     "metadata": {},
     "output_type": "execute_result"
    }
   ],
   "source": [
    "df.isna().sum()"
   ]
  },
  {
   "cell_type": "code",
   "execution_count": 35,
   "id": "bd10e150-f86e-45ea-b802-bd2f9948fd29",
   "metadata": {},
   "outputs": [
    {
     "name": "stderr",
     "output_type": "stream",
     "text": [
      "C:\\Users\\PC-NB\\AppData\\Local\\Temp\\ipykernel_9704\\1290472207.py:1: FutureWarning: A value is trying to be set on a copy of a DataFrame or Series through chained assignment using an inplace method.\n",
      "The behavior will change in pandas 3.0. This inplace method will never work because the intermediate object on which we are setting values always behaves as a copy.\n",
      "\n",
      "For example, when doing 'df[col].method(value, inplace=True)', try using 'df.method({col: value}, inplace=True)' or df[col] = df[col].method(value) instead, to perform the operation inplace on the original object.\n",
      "\n",
      "\n",
      "  df['Warranty'].fillna(0, inplace=True)\n"
     ]
    }
   ],
   "source": [
    "df['Warranty'].fillna(0, inplace=True)"
   ]
  },
  {
   "cell_type": "code",
   "execution_count": 36,
   "id": "4145e6c9-3ee9-45d5-9fed-2a8c7724abd8",
   "metadata": {},
   "outputs": [
    {
     "data": {
      "text/plain": [
       "Price                0\n",
       "Rating               0\n",
       "OS                   0\n",
       "Warranty             0\n",
       "Brand                0\n",
       "Ram_GB               0\n",
       "SSD_GB               0\n",
       "Display_size_inch    0\n",
       "GPU_Memory_GB        0\n",
       "Core_Count           0\n",
       "Core_Threads         0\n",
       "Processor            0\n",
       "dtype: int64"
      ]
     },
     "execution_count": 36,
     "metadata": {},
     "output_type": "execute_result"
    }
   ],
   "source": [
    "df.isna().sum()"
   ]
  },
  {
   "cell_type": "code",
   "execution_count": 37,
   "id": "a70d338f-a4d6-4135-8da0-be3724ce4683",
   "metadata": {},
   "outputs": [
    {
     "name": "stdout",
     "output_type": "stream",
     "text": [
      "Categorical variables:\n",
      "['OS', 'Brand', 'Processor']\n"
     ]
    }
   ],
   "source": [
    "from sklearn.tree import DecisionTreeRegressor\n",
    "from sklearn.metrics import mean_absolute_error\n",
    "from sklearn.model_selection import train_test_split\n",
    "\n",
    "y= df.Price\n",
    "X= df.drop(columns=['Price'])\n",
    "\n",
    "model = DecisionTreeRegressor()\n",
    "\n",
    "train_X, val_X, train_y, val_y = train_test_split(X, y, random_state = 0)\n",
    "\n",
    "s = (train_X.dtypes == 'object')\n",
    "object_cols = list(s[s].index)\n",
    "\n",
    "print(\"Categorical variables:\")\n",
    "print(object_cols)\n"
   ]
  },
  {
   "cell_type": "code",
   "execution_count": 38,
   "id": "ecc7ac27-2bf3-4368-9cb7-af6675bb6939",
   "metadata": {},
   "outputs": [],
   "source": [
    "from sklearn.preprocessing import OrdinalEncoder\n",
    "\n",
    "# Make copy to avoid changing original data \n",
    "label_X_train = train_X.copy()\n",
    "label_X_valid = val_X.copy()\n",
    "\n",
    "# Apply ordinal encoder to each column with categorical data\n",
    "ordinal_encoder = OrdinalEncoder(handle_unknown='use_encoded_value',unknown_value=np.nan)\n",
    "label_X_train[object_cols] = ordinal_encoder.fit_transform(train_X[object_cols])\n",
    "label_X_valid[object_cols] = ordinal_encoder.transform(val_X[object_cols])"
   ]
  },
  {
   "cell_type": "code",
   "execution_count": 40,
   "id": "bd4efe63-dd89-4ac3-95b6-49c6b65b26f9",
   "metadata": {},
   "outputs": [
    {
     "name": "stdout",
     "output_type": "stream",
     "text": [
      "19976.858695652172\n"
     ]
    }
   ],
   "source": [
    "model.fit(label_X_train, train_y)\n",
    "val_predictions = model.predict(label_X_valid)\n",
    "print(mean_absolute_error(val_y, val_predictions))\n"
   ]
  },
  {
   "cell_type": "code",
   "execution_count": null,
   "id": "52c25f0a-875b-4e67-be40-4c2f6c17aeca",
   "metadata": {},
   "outputs": [],
   "source": []
  }
 ],
 "metadata": {
  "kernelspec": {
   "display_name": "Python 3 (ipykernel)",
   "language": "python",
   "name": "python3"
  },
  "language_info": {
   "codemirror_mode": {
    "name": "ipython",
    "version": 3
   },
   "file_extension": ".py",
   "mimetype": "text/x-python",
   "name": "python",
   "nbconvert_exporter": "python",
   "pygments_lexer": "ipython3",
   "version": "3.13.0"
  }
 },
 "nbformat": 4,
 "nbformat_minor": 5
}
